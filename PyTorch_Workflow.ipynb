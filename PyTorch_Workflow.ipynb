{
 "cells": [
  {
   "cell_type": "markdown",
   "id": "6152e0a4",
   "metadata": {},
   "source": [
    "# PyTorch Workflow\n",
    "\n",
    "### Resource Link : https://www.learnpytorch.io/01_pytorch_workflow/"
   ]
  },
  {
   "cell_type": "code",
   "execution_count": 1,
   "id": "56d63f49",
   "metadata": {},
   "outputs": [],
   "source": [
    "import torch\n",
    "from torch import nn\n",
    "import pandas as pd\n",
    "import numpy as np\n",
    "import matplotlib.pyplot as plt"
   ]
  },
  {
   "cell_type": "code",
   "execution_count": 2,
   "id": "9ae29a25",
   "metadata": {},
   "outputs": [
    {
     "data": {
      "text/plain": [
       "'cuda'"
      ]
     },
     "execution_count": 2,
     "metadata": {},
     "output_type": "execute_result"
    }
   ],
   "source": [
    "device = \"cuda\" if torch.cuda.is_available() else \"cpu\"\n",
    "device"
   ]
  },
  {
   "cell_type": "markdown",
   "id": "8dbc1637",
   "metadata": {},
   "source": [
    "## Data Preparation And Loading"
   ]
  },
  {
   "cell_type": "code",
   "execution_count": 3,
   "id": "409cc655",
   "metadata": {},
   "outputs": [
    {
     "data": {
      "text/plain": [
       "(tensor([[0.0000],\n",
       "         [0.0200],\n",
       "         [0.0400],\n",
       "         [0.0600],\n",
       "         [0.0800],\n",
       "         [0.1000],\n",
       "         [0.1200],\n",
       "         [0.1400],\n",
       "         [0.1600],\n",
       "         [0.1800]], device='cuda:0'),\n",
       " tensor([[0.3000],\n",
       "         [0.3140],\n",
       "         [0.3280],\n",
       "         [0.3420],\n",
       "         [0.3560],\n",
       "         [0.3700],\n",
       "         [0.3840],\n",
       "         [0.3980],\n",
       "         [0.4120],\n",
       "         [0.4260]], device='cuda:0'))"
      ]
     },
     "execution_count": 3,
     "metadata": {},
     "output_type": "execute_result"
    }
   ],
   "source": [
    "weight = 0.7\n",
    "bias = 0.3\n",
    "\n",
    "start = 0\n",
    "end = 1\n",
    "step = 0.02\n",
    "X = torch.arange(start, end, step).unsqueeze(dim = 1)\n",
    "y = weight*X + bias\n",
    "\n",
    "X = X.to(device)\n",
    "y = y.to(device)\n",
    "\n",
    "X[:10], y[:10]"
   ]
  },
  {
   "cell_type": "code",
   "execution_count": 4,
   "id": "ece1539d",
   "metadata": {},
   "outputs": [
    {
     "data": {
      "text/plain": [
       "(50, 50)"
      ]
     },
     "execution_count": 4,
     "metadata": {},
     "output_type": "execute_result"
    }
   ],
   "source": [
    "len(X), len(y)"
   ]
  },
  {
   "cell_type": "code",
   "execution_count": 5,
   "id": "536c2388",
   "metadata": {},
   "outputs": [
    {
     "data": {
      "text/plain": [
       "(40, 10)"
      ]
     },
     "execution_count": 5,
     "metadata": {},
     "output_type": "execute_result"
    }
   ],
   "source": [
    "train_split = int(0.8 * len(X))\n",
    "X_train, y_train = X[:train_split], y[:train_split]\n",
    "X_test, y_test = X[train_split:], y[train_split:]\n",
    "\n",
    "len(X_train), len(X_test)"
   ]
  },
  {
   "cell_type": "code",
   "execution_count": 6,
   "id": "b15791df",
   "metadata": {},
   "outputs": [],
   "source": [
    "def plot_predictions(train_data = X_train, train_labels = y_train, test_data = X_test, test_labels = y_test, predictions = None):\n",
    "    plt.figure(figsize = (10,7))\n",
    "    plt.scatter(train_data.cpu().numpy(), train_labels.cpu().numpy(), c=\"b\", s=4, label=\"Training Data\")\n",
    "    plt.scatter(test_data.cpu().numpy(), test_labels.cpu().numpy(), c=\"g\", s=4, label=\"Testing Data\")\n",
    "    if predictions is not None:\n",
    "        plt.scatter(test_data.cpu().numpy(), predictions.cpu().numpy(), c=\"r\", s=4, label=\"Predictions\")\n",
    "    plt.legend(prop={\"size\":14})"
   ]
  },
  {
   "cell_type": "code",
   "execution_count": 7,
   "id": "f90534d9",
   "metadata": {},
   "outputs": [
    {
     "data": {
      "image/png": "[encoded data removed]",
      "text/plain": [
       "<Figure size 720x504 with 1 Axes>"
      ]
     },
     "metadata": {
      "needs_background": "light"
     },
     "output_type": "display_data"
    }
   ],
   "source": [
    "plot_predictions()"
   ]
  },
  {
   "cell_type": "markdown",
   "id": "4e26c3ad",
   "metadata": {},
   "source": [
    "## Build Model"
   ]
  },
  {
   "cell_type": "markdown",
   "id": "49ec6b7d",
   "metadata": {},
   "source": [
    "<ol>\n",
    "    <li>Start with random values</li>\n",
    "    <li>Look at training data</li>\n",
    "    <li>Adjust random values to get close to ideal values using Gradient Descent and Backpropogation</li>\n",
    "</ol>"
   ]
  },
  {
   "cell_type": "code",
   "execution_count": 141,
   "id": "7717340a",
   "metadata": {},
   "outputs": [],
   "source": [
    "class LinearRegressionModel(nn.Module): # Inherits from nn.module. Contains all the building blocks for neural networks \n",
    "    def __init__(self):\n",
    "        super().__init__()\n",
    "        #Initialize model parameters\n",
    "        self.weights = nn.Parameter(torch.rand(1, requires_grad = True, dtype = torch.float))\n",
    "        #requires grad = True will track the gradients of this specific parameter for use with torch.autograd and grad descent\n",
    "        self.bias = nn.Parameter(torch.rand(1, requires_grad = True, dtype = torch.float))\n",
    "        \n",
    "    def forward(self, x: torch.Tensor) -> torch.Tensor:\n",
    "        #Defines computation in the model\n",
    "        #Any subclass of nn.module needs to override forward()\n",
    "        #x is the input data\n",
    "        return self.weights * x + self.bias\n",
    "        \n",
    "    "
   ]
  },
  {
   "cell_type": "markdown",
   "id": "d048c9a5",
   "metadata": {},
   "source": [
    "PyTorch Model Building essentials\n",
    "<ol>\n",
    "    <li>torch.nn - contains all the building blocks for the Neural Network</li>\n",
    "    <li>torch.nn.Parameter - what params should our model try and learn</li>\n",
    "    <li>torch.nn.Module - Base class for all Neural Net modules</li>\n",
    "    <li>torch.optim - Optimizers that help with gradient descent</li>\n",
    "    <li>def forward() - Required to override</li>\n",
    "</ol>\n",
    "To get data ready some important modules are - \n",
    "<ol>\n",
    "    <li>torchvision.transforms</li>\n",
    "    <li>torch.utils.data.Dataset</li>\n",
    "    <li>torch.utils.data.DataLoader</li>\n",
    "</ol>"
   ]
  },
  {
   "cell_type": "code",
   "execution_count": 142,
   "id": "1c96727b",
   "metadata": {},
   "outputs": [
    {
     "data": {
      "text/plain": [
       "LinearRegressionModel()"
      ]
     },
     "execution_count": 142,
     "metadata": {},
     "output_type": "execute_result"
    }
   ],
   "source": [
    "torch.manual_seed(5)\n",
    "\n",
    "model_0 = LinearRegressionModel()\n",
    "\n",
    "model_0"
   ]
  },
  {
   "cell_type": "code",
   "execution_count": 143,
   "id": "6bac1fde",
   "metadata": {},
   "outputs": [
    {
     "data": {
      "text/plain": [
       "[Parameter containing:\n",
       " tensor([0.8303], requires_grad=True),\n",
       " Parameter containing:\n",
       " tensor([0.1261], requires_grad=True)]"
      ]
     },
     "execution_count": 143,
     "metadata": {},
     "output_type": "execute_result"
    }
   ],
   "source": [
    "list(model_0.parameters())"
   ]
  },
  {
   "cell_type": "code",
   "execution_count": 144,
   "id": "a73bbb1f",
   "metadata": {
    "scrolled": true
   },
   "outputs": [
    {
     "data": {
      "text/plain": [
       "OrderedDict([('weights', tensor([0.8303])), ('bias', tensor([0.1261]))])"
      ]
     },
     "execution_count": 144,
     "metadata": {},
     "output_type": "execute_result"
    }
   ],
   "source": [
    "model_0.state_dict()"
   ]
  },
  {
   "cell_type": "markdown",
   "id": "956b717c",
   "metadata": {},
   "source": [
    "### When we pass data through our model, its going to run it through forward()"
   ]
  },
  {
   "cell_type": "code",
   "execution_count": 145,
   "id": "fca6a5d4",
   "metadata": {},
   "outputs": [
    {
     "data": {
      "text/plain": [
       "(tensor([[0.7903],\n",
       "         [0.8069],\n",
       "         [0.8235],\n",
       "         [0.8401],\n",
       "         [0.8567],\n",
       "         [0.8733],\n",
       "         [0.8899],\n",
       "         [0.9065],\n",
       "         [0.9232],\n",
       "         [0.9398]]),\n",
       " tensor([[0.8600],\n",
       "         [0.8740],\n",
       "         [0.8880],\n",
       "         [0.9020],\n",
       "         [0.9160],\n",
       "         [0.9300],\n",
       "         [0.9440],\n",
       "         [0.9580],\n",
       "         [0.9720],\n",
       "         [0.9860]]))"
      ]
     },
     "execution_count": 145,
     "metadata": {},
     "output_type": "execute_result"
    }
   ],
   "source": [
    "with torch.inference_mode():\n",
    "    y_preds = model_0(X_test)\n",
    "    \n",
    "y_preds, y_test"
   ]
  },
  {
   "cell_type": "markdown",
   "id": "10f301bf",
   "metadata": {},
   "source": [
    "When we are doing inference, we don't need to keep tracks of gradients as we are not doing training"
   ]
  },
  {
   "cell_type": "code",
   "execution_count": 146,
   "id": "8a8e1c60",
   "metadata": {},
   "outputs": [
    {
     "data": {
      "image/png": "[encoded data removed]",
      "text/plain": [
       "<Figure size 720x504 with 1 Axes>"
      ]
     },
     "metadata": {
      "needs_background": "light"
     },
     "output_type": "display_data"
    }
   ],
   "source": [
    "plot_predictions(predictions = y_preds)"
   ]
  },
  {
   "cell_type": "code",
   "execution_count": 147,
   "id": "fd5bc477",
   "metadata": {},
   "outputs": [
    {
     "data": {
      "text/plain": [
       "(tensor([[0.7903],\n",
       "         [0.8069],\n",
       "         [0.8235],\n",
       "         [0.8401],\n",
       "         [0.8567],\n",
       "         [0.8733],\n",
       "         [0.8899],\n",
       "         [0.9065],\n",
       "         [0.9232],\n",
       "         [0.9398]]),\n",
       " tensor([[0.8600],\n",
       "         [0.8740],\n",
       "         [0.8880],\n",
       "         [0.9020],\n",
       "         [0.9160],\n",
       "         [0.9300],\n",
       "         [0.9440],\n",
       "         [0.9580],\n",
       "         [0.9720],\n",
       "         [0.9860]]))"
      ]
     },
     "execution_count": 147,
     "metadata": {},
     "output_type": "execute_result"
    }
   ],
   "source": [
    "with torch.no_grad():\n",
    "    y_preds = model_0(X_test)\n",
    "    \n",
    "y_preds, y_test"
   ]
  },
  {
   "cell_type": "markdown",
   "id": "ce494ba6",
   "metadata": {},
   "source": [
    "## Model Training"
   ]
  },
  {
   "cell_type": "markdown",
   "id": "20e6ec76",
   "metadata": {},
   "source": [
    "A way to measure how poor the model's predictions are is to use a loss function. Loss function may also be called a cost function or criterion in different areas.<br>\n",
    "Optimizer takes into account the loss of a model and adjusts the models parameters (weight and bias) to improve the loss function.<br>\n",
    "For PyTorch we need a train loop and a test loop"
   ]
  },
  {
   "cell_type": "markdown",
   "id": "8368e6be",
   "metadata": {},
   "source": [
    "### Setting up Loss Function"
   ]
  },
  {
   "cell_type": "code",
   "execution_count": 148,
   "id": "8a28ed40",
   "metadata": {},
   "outputs": [],
   "source": [
    "loss_fn = nn.L1Loss()"
   ]
  },
  {
   "cell_type": "markdown",
   "id": "da36841d",
   "metadata": {},
   "source": [
    "### Setting up an Optimizer"
   ]
  },
  {
   "cell_type": "code",
   "execution_count": 149,
   "id": "a7c1001c",
   "metadata": {},
   "outputs": [],
   "source": [
    "# Stochastic Gradient Descent\n",
    "# Learning rate defines how big/small the optimizer changes the parameters with each step\n",
    "optimizer = torch.optim.SGD(model_0.parameters(), lr=0.01)"
   ]
  },
  {
   "cell_type": "markdown",
   "id": "79d17dcb",
   "metadata": {},
   "source": [
    "### Build Training loop\n",
    "0. Loop through the data and do..\n",
    "1. Forward pass to make predictions on data (Data passes through the models forward function)\n",
    "2. Calculate the loss\n",
    "3. Optimizer zero grad\n",
    "4. Loss Backward - move backwards thru NN to calculate the gradients of each of the params of our model wrt the loss [backprop]\n",
    "5. Optimizer step - use optimizer to adjust our models params to try and improve the loss [gradient descent]"
   ]
  },
  {
   "cell_type": "code",
   "execution_count": 150,
   "id": "22c788c2",
   "metadata": {},
   "outputs": [
    {
     "name": "stdout",
     "output_type": "stream",
     "text": [
      "Epoch: 0 | Loss: 0.12309086322784424 | Test Loss: 0.044493936002254486\n",
      "OrderedDict([('weights', tensor([0.8342])), ('bias', tensor([0.1361]))])\n",
      "Epoch: 10 | Loss: 0.036871932446956635 | Test Loss: 0.05862991139292717\n",
      "OrderedDict([('weights', tensor([0.8596])), ('bias', tensor([0.2166]))])\n",
      "Epoch: 20 | Loss: 0.030283555388450623 | Test Loss: 0.06788599491119385\n",
      "OrderedDict([('weights', tensor([0.8481])), ('bias', tensor([0.2361]))])\n",
      "Epoch: 30 | Loss: 0.02679416537284851 | Test Loss: 0.06167420744895935\n",
      "OrderedDict([('weights', tensor([0.8315])), ('bias', tensor([0.2446]))])\n",
      "Epoch: 40 | Loss: 0.02336020953953266 | Test Loss: 0.054088614881038666\n",
      "OrderedDict([('weights', tensor([0.8146])), ('bias', tensor([0.2521]))])\n",
      "Epoch: 50 | Loss: 0.01992935687303543 | Test Loss: 0.04581606388092041\n",
      "OrderedDict([('weights', tensor([0.7974])), ('bias', tensor([0.2591]))])\n",
      "Epoch: 60 | Loss: 0.016490545123815536 | Test Loss: 0.03754352405667305\n",
      "OrderedDict([('weights', tensor([0.7803])), ('bias', tensor([0.2661]))])\n",
      "Epoch: 70 | Loss: 0.013058274984359741 | Test Loss: 0.0299578495323658\n",
      "OrderedDict([('weights', tensor([0.7633])), ('bias', tensor([0.2736]))])\n",
      "Epoch: 80 | Loss: 0.009625731036067009 | Test Loss: 0.02168530784547329\n",
      "OrderedDict([('weights', tensor([0.7462])), ('bias', tensor([0.2806]))])\n",
      "Epoch: 90 | Loss: 0.006186924874782562 | Test Loss: 0.013412779197096825\n",
      "OrderedDict([('weights', tensor([0.7290])), ('bias', tensor([0.2876]))])\n",
      "Epoch: 100 | Loss: 0.0027563467156141996 | Test Loss: 0.005827116779983044\n",
      "OrderedDict([('weights', tensor([0.7120])), ('bias', tensor([0.2951]))])\n",
      "Epoch: 110 | Loss: 0.00754676153883338 | Test Loss: 0.007004874758422375\n",
      "OrderedDict([('weights', tensor([0.7061])), ('bias', tensor([0.3016]))])\n",
      "Epoch: 120 | Loss: 0.00754676153883338 | Test Loss: 0.007004874758422375\n",
      "OrderedDict([('weights', tensor([0.7061])), ('bias', tensor([0.3016]))])\n",
      "Epoch: 130 | Loss: 0.00754676153883338 | Test Loss: 0.007004874758422375\n",
      "OrderedDict([('weights', tensor([0.7061])), ('bias', tensor([0.3016]))])\n",
      "Epoch: 140 | Loss: 0.00754676153883338 | Test Loss: 0.007004874758422375\n",
      "OrderedDict([('weights', tensor([0.7061])), ('bias', tensor([0.3016]))])\n",
      "Epoch: 150 | Loss: 0.00754676153883338 | Test Loss: 0.007004874758422375\n",
      "OrderedDict([('weights', tensor([0.7061])), ('bias', tensor([0.3016]))])\n",
      "Epoch: 160 | Loss: 0.00754676153883338 | Test Loss: 0.007004874758422375\n",
      "OrderedDict([('weights', tensor([0.7061])), ('bias', tensor([0.3016]))])\n",
      "Epoch: 170 | Loss: 0.00754676153883338 | Test Loss: 0.007004874758422375\n",
      "OrderedDict([('weights', tensor([0.7061])), ('bias', tensor([0.3016]))])\n",
      "Epoch: 180 | Loss: 0.00754676153883338 | Test Loss: 0.007004874758422375\n",
      "OrderedDict([('weights', tensor([0.7061])), ('bias', tensor([0.3016]))])\n",
      "Epoch: 190 | Loss: 0.00754676153883338 | Test Loss: 0.007004874758422375\n",
      "OrderedDict([('weights', tensor([0.7061])), ('bias', tensor([0.3016]))])\n",
      "Epoch: 200 | Loss: 0.00754676153883338 | Test Loss: 0.007004874758422375\n",
      "OrderedDict([('weights', tensor([0.7061])), ('bias', tensor([0.3016]))])\n"
     ]
    }
   ],
   "source": [
    "torch.manual_seed(5)\n",
    "\n",
    "epoch_count = []\n",
    "loss_values = []\n",
    "test_loss_values = []\n",
    "\n",
    "epochs = 201 #Another hyperparameter\n",
    "\n",
    "# Step 0\n",
    "for epoch in range(epochs):\n",
    "    # Set the model to training mode\n",
    "    model_0.train() #Sets all params that require gradients to require gradients\n",
    "    \n",
    "    #Step 1\n",
    "    y_pred = model_0(X_train)\n",
    "    \n",
    "    #Step 2\n",
    "    loss = loss_fn(y_pred, y_train) # predictions then actual is official format\n",
    "    \n",
    "    #Step 3\n",
    "    optimizer.zero_grad() #Prevents accumulation of the optimizer value\n",
    "    \n",
    "    #Step 4\n",
    "    loss.backward() #calculate gradients of each parameter which has grad=True\n",
    "    \n",
    "    #Step 5\n",
    "    optimizer.step() #Perform gradient descent to update the model parameters\n",
    "    \n",
    "    model_0.eval() #Turns off different settings in the model not needed for testing (droput/batchnorm)\n",
    "\n",
    "    with torch.inference_mode(): # Turns off gradient tracking & other things in background. Faster performance. Not necessary.\n",
    "        #Step 1 Testing\n",
    "        test_pred = model_0(X_test)\n",
    "        #Step 2 Testing\n",
    "        test_loss = loss_fn(test_pred, y_test)\n",
    "        \n",
    "    if epoch%10 == 0:\n",
    "        print(f\"Epoch: {epoch} | Loss: {loss} | Test Loss: {test_loss}\")\n",
    "        print(model_0.state_dict())\n",
    "        \n",
    "    epoch_count.append(epoch)\n",
    "    loss_values.append(loss)\n",
    "    test_loss_values.append(test_loss)"
   ]
  },
  {
   "cell_type": "code",
   "execution_count": 151,
   "id": "4fb0f9ff",
   "metadata": {
    "scrolled": true
   },
   "outputs": [
    {
     "data": {
      "text/plain": [
       "OrderedDict([('weights', tensor([0.7061])), ('bias', tensor([0.3016]))])"
      ]
     },
     "execution_count": 151,
     "metadata": {},
     "output_type": "execute_result"
    }
   ],
   "source": [
    "model_0.state_dict()"
   ]
  },
  {
   "cell_type": "code",
   "execution_count": 137,
   "id": "bbc558de",
   "metadata": {},
   "outputs": [],
   "source": [
    "with torch.inference_mode():\n",
    "    y_preds_new = model_0(X_test)"
   ]
  },
  {
   "cell_type": "code",
   "execution_count": 138,
   "id": "35daf4b0",
   "metadata": {
    "scrolled": true
   },
   "outputs": [
    {
     "data": {
      "image/png": "[encoded data removed]",
      "text/plain": [
       "<Figure size 720x504 with 1 Axes>"
      ]
     },
     "metadata": {
      "needs_background": "light"
     },
     "output_type": "display_data"
    }
   ],
   "source": [
    "plot_predictions(predictions = y_preds)"
   ]
  },
  {
   "cell_type": "code",
   "execution_count": 139,
   "id": "ee23f922",
   "metadata": {},
   "outputs": [
    {
     "data": {
      "image/png": "[encoded data removed]",
      "text/plain": [
       "<Figure size 720x504 with 1 Axes>"
      ]
     },
     "metadata": {
      "needs_background": "light"
     },
     "output_type": "display_data"
    }
   ],
   "source": [
    "plot_predictions(predictions = y_preds_new)"
   ]
  },
  {
   "cell_type": "markdown",
   "id": "bfa20bf4",
   "metadata": {},
   "source": [
    "### Building Testing Loop"
   ]
  },
  {
   "cell_type": "code",
   "execution_count": 125,
   "id": "5892ce5d",
   "metadata": {},
   "outputs": [
    {
     "name": "stdout",
     "output_type": "stream",
     "text": [
      "tensor(0.0075)\n"
     ]
    }
   ],
   "source": [
    "model_0.eval() #Turns off different settings in the model not needed for testing (droput/batchnorm)\n",
    "\n",
    "with torch.inference_mode(): # Turns off gradient tracking & other things in background\n",
    "    #Step 1\n",
    "    test_pred = model_0(X_test)\n",
    "    #Step 2\n",
    "    test_loss = loss_fn(test_pred, y_test)\n",
    "    print(test_loss)"
   ]
  },
  {
   "cell_type": "markdown",
   "id": "b6e2e836",
   "metadata": {},
   "source": [
    "## Model Evaluation"
   ]
  },
  {
   "cell_type": "code",
   "execution_count": 153,
   "id": "394101e8",
   "metadata": {},
   "outputs": [
    {
     "data": {
      "text/plain": [
       "<matplotlib.legend.Legend at 0x1f91b7bbfa0>"
      ]
     },
     "execution_count": 153,
     "metadata": {},
     "output_type": "execute_result"
    },
    {
     "data": {
      "image/png": "[encoded data removed]",
      "text/plain": [
       "<Figure size 432x288 with 1 Axes>"
      ]
     },
     "metadata": {
      "needs_background": "light"
     },
     "output_type": "display_data"
    }
   ],
   "source": [
    "plt.plot(epoch_count, np.array(torch.tensor(loss_values).cpu().numpy()), label = \"Training Loss\")\n",
    "plt.plot(epoch_count, np.array(torch.tensor(test_loss_values).cpu().numpy()), label = \"Testing Loss\")\n",
    "plt.title(\"loss curve\")\n",
    "plt.ylabel(\"Loss\")\n",
    "plt.xlabel(\"Epoch\")\n",
    "plt.legend()"
   ]
  },
  {
   "cell_type": "markdown",
   "id": "c1a8b1d7",
   "metadata": {},
   "source": [
    "## Saving And Loading Model"
   ]
  },
  {
   "cell_type": "markdown",
   "id": "603b0b75",
   "metadata": {},
   "source": [
    "Three main methods to save and load models\n",
    "1. torch.save - allows saving in Python pkl format\n",
    "2. torch.load - allows loading a saved pytroch object\n",
    "3. torch.nn.Module.load_state_dict() - this allows you to load a model's saved state dict"
   ]
  },
  {
   "cell_type": "code",
   "execution_count": 157,
   "id": "7ed51521",
   "metadata": {},
   "outputs": [],
   "source": [
    "from pathlib import Path\n",
    "\n",
    "MODEL_PATH = Path(\"models\")\n",
    "MODEL_PATH.mkdir(parents = True, exist_ok = True)\n",
    "\n",
    "MODEL_NAME = \"01_Linear_Regression_Model.pth\"\n",
    "MODEL_SAVE_PATH = MODEL_PATH / MODEL_NAME\n",
    "\n",
    "torch.save(obj = model_0.state_dict(), f = MODEL_SAVE_PATH)"
   ]
  },
  {
   "cell_type": "markdown",
   "id": "1828318a",
   "metadata": {},
   "source": [
    "Create a new instance of model class and load the saved state_dict) into that"
   ]
  },
  {
   "cell_type": "code",
   "execution_count": 158,
   "id": "656414ac",
   "metadata": {},
   "outputs": [
    {
     "data": {
      "text/plain": [
       "<All keys matched successfully>"
      ]
     },
     "execution_count": 158,
     "metadata": {},
     "output_type": "execute_result"
    }
   ],
   "source": [
    "loaded_model_0 = LinearRegressionModel()\n",
    "\n",
    "loaded_model_0.load_state_dict(torch.load(f = MODEL_SAVE_PATH))"
   ]
  },
  {
   "cell_type": "code",
   "execution_count": 159,
   "id": "7a96803e",
   "metadata": {},
   "outputs": [
    {
     "data": {
      "text/plain": [
       "OrderedDict([('weights', tensor([0.7061])), ('bias', tensor([0.3016]))])"
      ]
     },
     "execution_count": 159,
     "metadata": {},
     "output_type": "execute_result"
    }
   ],
   "source": [
    "loaded_model_0.state_dict()"
   ]
  },
  {
   "cell_type": "code",
   "execution_count": 160,
   "id": "9b90ff3d",
   "metadata": {},
   "outputs": [
    {
     "data": {
      "text/plain": [
       "tensor([[0.8665],\n",
       "        [0.8806],\n",
       "        [0.8947],\n",
       "        [0.9088],\n",
       "        [0.9229],\n",
       "        [0.9371],\n",
       "        [0.9512],\n",
       "        [0.9653],\n",
       "        [0.9794],\n",
       "        [0.9936]])"
      ]
     },
     "execution_count": 160,
     "metadata": {},
     "output_type": "execute_result"
    }
   ],
   "source": [
    "loaded_model_0.eval()\n",
    "with torch.inference_mode():\n",
    "    loaded_model_preds = loaded_model_0(X_test)\n",
    "    \n",
    "loaded_model_preds"
   ]
  },
  {
   "cell_type": "code",
   "execution_count": 161,
   "id": "2c89e833",
   "metadata": {},
   "outputs": [
    {
     "data": {
      "text/plain": [
       "tensor([[True],\n",
       "        [True],\n",
       "        [True],\n",
       "        [True],\n",
       "        [True],\n",
       "        [True],\n",
       "        [True],\n",
       "        [True],\n",
       "        [True],\n",
       "        [True]])"
      ]
     },
     "execution_count": 161,
     "metadata": {},
     "output_type": "execute_result"
    }
   ],
   "source": [
    "y_preds_new == loaded_model_preds"
   ]
  },
  {
   "cell_type": "markdown",
   "id": "beb02462",
   "metadata": {},
   "source": [
    "## Linear Model V2"
   ]
  },
  {
   "cell_type": "code",
   "execution_count": 10,
   "id": "8b440ab3",
   "metadata": {},
   "outputs": [
    {
     "data": {
      "text/plain": [
       "OrderedDict([('linear_layer.weight', tensor([[0.6605]])),\n",
       "             ('linear_layer.bias', tensor([-0.7478]))])"
      ]
     },
     "execution_count": 10,
     "metadata": {},
     "output_type": "execute_result"
    }
   ],
   "source": [
    "class LinearRegressionModelV2(nn.Module):\n",
    "    def __init__(self):\n",
    "        super().__init__()\n",
    "        #Use nn.Linear() for creating the model params\n",
    "        # linear transform, probing layer, fully connected layer, dense layer\n",
    "        self.linear_layer = nn.Linear(in_features = 1,\n",
    "                                      out_features = 1) #One value of x maps to one value of y\n",
    "        #implements linear regression formula\n",
    "        #behind the scenes creates weight and bias params\n",
    "        \n",
    "    def forward(self, x: torch.Tensor) -> torch.Tensor:\n",
    "        return self.linear_layer(x)\n",
    "    \n",
    "torch.manual_seed(5)\n",
    "model = LinearRegressionModelV2()\n",
    "model.state_dict()"
   ]
  },
  {
   "cell_type": "code",
   "execution_count": 11,
   "id": "673b8f22",
   "metadata": {},
   "outputs": [
    {
     "data": {
      "text/plain": [
       "device(type='cpu')"
      ]
     },
     "execution_count": 11,
     "metadata": {},
     "output_type": "execute_result"
    }
   ],
   "source": [
    "next(model.parameters()).device"
   ]
  },
  {
   "cell_type": "code",
   "execution_count": 12,
   "id": "d25b07a7",
   "metadata": {},
   "outputs": [
    {
     "data": {
      "text/plain": [
       "device(type='cuda', index=0)"
      ]
     },
     "execution_count": 12,
     "metadata": {},
     "output_type": "execute_result"
    }
   ],
   "source": [
    "model.to(device)\n",
    "next(model.parameters()).device"
   ]
  },
  {
   "cell_type": "code",
   "execution_count": 13,
   "id": "d379a4c8",
   "metadata": {},
   "outputs": [],
   "source": [
    "loss_fn = nn.L1Loss()\n",
    "optimizer = torch.optim.SGD(params = model.parameters(),\n",
    "                            lr = 0.01)"
   ]
  },
  {
   "cell_type": "code",
   "execution_count": 14,
   "id": "052ae899",
   "metadata": {},
   "outputs": [
    {
     "name": "stdout",
     "output_type": "stream",
     "text": [
      "Epoch: 0 | Loss: 1.063181757926941 | Test Loss: 1.0694589614868164\n",
      "OrderedDict([('linear_layer.weight', tensor([[0.6644]], device='cuda:0')), ('linear_layer.bias', tensor([-0.7378], device='cuda:0'))])\n",
      "Epoch: 10 | Loss: 0.9479719400405884 | Test Loss: 0.9347490668296814\n",
      "OrderedDict([('linear_layer.weight', tensor([[0.7034]], device='cuda:0')), ('linear_layer.bias', tensor([-0.6378], device='cuda:0'))])\n",
      "Epoch: 20 | Loss: 0.8327619433403015 | Test Loss: 0.8000392317771912\n",
      "OrderedDict([('linear_layer.weight', tensor([[0.7424]], device='cuda:0')), ('linear_layer.bias', tensor([-0.5378], device='cuda:0'))])\n",
      "Epoch: 30 | Loss: 0.717552125453949 | Test Loss: 0.6653293967247009\n",
      "OrderedDict([('linear_layer.weight', tensor([[0.7814]], device='cuda:0')), ('linear_layer.bias', tensor([-0.4378], device='cuda:0'))])\n",
      "Epoch: 40 | Loss: 0.6023422479629517 | Test Loss: 0.5306195616722107\n",
      "OrderedDict([('linear_layer.weight', tensor([[0.8204]], device='cuda:0')), ('linear_layer.bias', tensor([-0.3378], device='cuda:0'))])\n",
      "Epoch: 50 | Loss: 0.48713237047195435 | Test Loss: 0.3959096670150757\n",
      "OrderedDict([('linear_layer.weight', tensor([[0.8594]], device='cuda:0')), ('linear_layer.bias', tensor([-0.2378], device='cuda:0'))])\n",
      "Epoch: 60 | Loss: 0.3719223439693451 | Test Loss: 0.2611997127532959\n",
      "OrderedDict([('linear_layer.weight', tensor([[0.8984]], device='cuda:0')), ('linear_layer.bias', tensor([-0.1378], device='cuda:0'))])\n",
      "Epoch: 70 | Loss: 0.256712406873703 | Test Loss: 0.1264898031949997\n",
      "OrderedDict([('linear_layer.weight', tensor([[0.9374]], device='cuda:0')), ('linear_layer.bias', tensor([-0.0378], device='cuda:0'))])\n",
      "Epoch: 80 | Loss: 0.14150241017341614 | Test Loss: 0.014911371283233166\n",
      "OrderedDict([('linear_layer.weight', tensor([[0.9764]], device='cuda:0')), ('linear_layer.bias', tensor([0.0622], device='cuda:0'))])\n",
      "Epoch: 90 | Loss: 0.07143677771091461 | Test Loss: 0.09894891828298569\n",
      "OrderedDict([('linear_layer.weight', tensor([[0.9963]], device='cuda:0')), ('linear_layer.bias', tensor([0.1352], device='cuda:0'))])\n",
      "Epoch: 100 | Loss: 0.06060728430747986 | Test Loss: 0.12252163141965866\n",
      "OrderedDict([('linear_layer.weight', tensor([[0.9897]], device='cuda:0')), ('linear_layer.bias', tensor([0.1647], device='cuda:0'))])\n",
      "Epoch: 110 | Loss: 0.05626198276877403 | Test Loss: 0.1253463327884674\n",
      "OrderedDict([('linear_layer.weight', tensor([[0.9760]], device='cuda:0')), ('linear_layer.bias', tensor([0.1797], device='cuda:0'))])\n",
      "Epoch: 120 | Loss: 0.052733857184648514 | Test Loss: 0.12119521200656891\n",
      "OrderedDict([('linear_layer.weight', tensor([[0.9601]], device='cuda:0')), ('linear_layer.bias', tensor([0.1897], device='cuda:0'))])\n",
      "Epoch: 130 | Loss: 0.04926464706659317 | Test Loss: 0.11429653316736221\n",
      "OrderedDict([('linear_layer.weight', tensor([[0.9433]], device='cuda:0')), ('linear_layer.bias', tensor([0.1977], device='cuda:0'))])\n",
      "Epoch: 140 | Loss: 0.045827124267816544 | Test Loss: 0.10671096295118332\n",
      "OrderedDict([('linear_layer.weight', tensor([[0.9264]], device='cuda:0')), ('linear_layer.bias', tensor([0.2052], device='cuda:0'))])\n",
      "Epoch: 150 | Loss: 0.04239868000149727 | Test Loss: 0.09843848645687103\n",
      "OrderedDict([('linear_layer.weight', tensor([[0.9092]], device='cuda:0')), ('linear_layer.bias', tensor([0.2122], device='cuda:0'))])\n",
      "Epoch: 160 | Loss: 0.038961011916399 | Test Loss: 0.09016600251197815\n",
      "OrderedDict([('linear_layer.weight', tensor([[0.8921]], device='cuda:0')), ('linear_layer.bias', tensor([0.2192], device='cuda:0'))])\n",
      "Epoch: 170 | Loss: 0.03552517294883728 | Test Loss: 0.08258040994405746\n",
      "OrderedDict([('linear_layer.weight', tensor([[0.8751]], device='cuda:0')), ('linear_layer.bias', tensor([0.2267], device='cuda:0'))])\n",
      "Epoch: 180 | Loss: 0.032096195966005325 | Test Loss: 0.07430794090032578\n",
      "OrderedDict([('linear_layer.weight', tensor([[0.8580]], device='cuda:0')), ('linear_layer.bias', tensor([0.2337], device='cuda:0'))])\n",
      "Epoch: 190 | Loss: 0.02865738235414028 | Test Loss: 0.0660354420542717\n",
      "OrderedDict([('linear_layer.weight', tensor([[0.8408]], device='cuda:0')), ('linear_layer.bias', tensor([0.2407], device='cuda:0'))])\n",
      "Epoch: 200 | Loss: 0.025223229080438614 | Test Loss: 0.05844985321164131\n",
      "OrderedDict([('linear_layer.weight', tensor([[0.8239]], device='cuda:0')), ('linear_layer.bias', tensor([0.2482], device='cuda:0'))])\n"
     ]
    }
   ],
   "source": [
    "torch.manual_seed(5)\n",
    "\n",
    "epoch_count = []\n",
    "loss_values = []\n",
    "test_loss_values = []\n",
    "\n",
    "epochs = 201\n",
    "\n",
    "for epoch in range(epochs):\n",
    "    model.train()\n",
    "    y_pred = model(X_train)\n",
    "    loss = loss_fn(y_pred, y_train)\n",
    "    optimizer.zero_grad()\n",
    "    loss.backward()\n",
    "    optimizer.step()\n",
    "    model.eval()\n",
    "    with torch.inference_mode():\n",
    "        test_pred = model(X_test)\n",
    "        test_loss = loss_fn(test_pred, y_test)\n",
    "        \n",
    "    if epoch%10 == 0:\n",
    "        print(f\"Epoch: {epoch} | Loss: {loss} | Test Loss: {test_loss}\")\n",
    "        print(model.state_dict())\n",
    "        \n",
    "    epoch_count.append(epoch)\n",
    "    loss_values.append(loss)\n",
    "    test_loss_values.append(test_loss)"
   ]
  },
  {
   "cell_type": "code",
   "execution_count": 15,
   "id": "53c7b43a",
   "metadata": {},
   "outputs": [
    {
     "data": {
      "text/plain": [
       "<matplotlib.legend.Legend at 0x1ccec7ed9a0>"
      ]
     },
     "execution_count": 15,
     "metadata": {},
     "output_type": "execute_result"
    },
    {
     "data": {
      "image/png": "[encoded data removed]",
      "text/plain": [
       "<Figure size 432x288 with 1 Axes>"
      ]
     },
     "metadata": {
      "needs_background": "light"
     },
     "output_type": "display_data"
    }
   ],
   "source": [
    "plt.plot(epoch_count, np.array(torch.tensor(loss_values).cpu().numpy()), label = \"Training Loss\")\n",
    "plt.plot(epoch_count, np.array(torch.tensor(test_loss_values).cpu().numpy()), label = \"Testing Loss\")\n",
    "plt.title(\"loss curve\")\n",
    "plt.ylabel(\"Loss\")\n",
    "plt.xlabel(\"Epoch\")\n",
    "plt.legend()"
   ]
  },
  {
   "cell_type": "code",
   "execution_count": 16,
   "id": "fe8c32be",
   "metadata": {},
   "outputs": [
    {
     "data": {
      "image/png": "[encoded data removed]",
      "text/plain": [
       "<Figure size 720x504 with 1 Axes>"
      ]
     },
     "metadata": {
      "needs_background": "light"
     },
     "output_type": "display_data"
    }
   ],
   "source": [
    "with torch.inference_mode():\n",
    "    y_preds_new = model(X_test)\n",
    "    \n",
    "plot_predictions(predictions = y_preds_new)"
   ]
  },
  {
   "cell_type": "code",
   "execution_count": 17,
   "id": "6f7f48c3",
   "metadata": {},
   "outputs": [],
   "source": [
    "from pathlib import Path\n",
    "\n",
    "MODEL_PATH = Path(\"models\")\n",
    "MODEL_PATH.mkdir(parents = True, exist_ok = True)\n",
    "\n",
    "MODEL_NAME = \"01_Linear_Regression_Model_V2.pth\"\n",
    "MODEL_SAVE_PATH = MODEL_PATH / MODEL_NAME\n",
    "\n",
    "torch.save(obj = model.state_dict(), f = MODEL_SAVE_PATH)"
   ]
  },
  {
   "cell_type": "markdown",
   "id": "4aea77ae",
   "metadata": {},
   "source": [
    "Loading this model will require putting it onto the device"
   ]
  },
  {
   "cell_type": "code",
   "execution_count": null,
   "id": "7dc93830",
   "metadata": {},
   "outputs": [],
   "source": []
  }
 ],
 "metadata": {
  "kernelspec": {
   "display_name": "Python 3",
   "language": "python",
   "name": "python3"
  },
  "language_info": {
   "codemirror_mode": {
    "name": "ipython",
    "version": 3
   },
   "file_extension": ".py",
   "mimetype": "text/x-python",
   "name": "python",
   "nbconvert_exporter": "python",
   "pygments_lexer": "ipython3",
   "version": "3.9.5"
  }
 },
 "nbformat": 4,
 "nbformat_minor": 5
}
