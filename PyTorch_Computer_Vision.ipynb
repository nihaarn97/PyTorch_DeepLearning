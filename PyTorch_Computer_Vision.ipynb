{
 "cells": [
  {
   "cell_type": "markdown",
   "id": "5b9c4f64",
   "metadata": {},
   "source": [
    "# PyTorch Computer Vision\n",
    "\n",
    "### Resource Link : https://www.learnpytorch.io/03_pytorch_computer_vision/"
   ]
  },
  {
   "cell_type": "markdown",
   "id": "7cc97706",
   "metadata": {},
   "source": [
    "1. torchvision - base domain library for computer vision with PyTorch\n",
    "2. torchvision.datasets - get datasets and data loading functions for CV\n",
    "3. torchvision.mmodels - get pretrained computer vision models \n",
    "4. torchvision.transforms - functions for manipulating vision data"
   ]
  },
  {
   "cell_type": "code",
   "execution_count": 1,
   "id": "7f68f1c2",
   "metadata": {},
   "outputs": [],
   "source": [
    "import torch\n",
    "from torch import nn\n",
    "import sklearn\n",
    "import pandas as pd\n",
    "import matplotlib.pyplot as plt\n",
    "\n",
    "import torchvision\n",
    "from torchvision import datasets\n",
    "from torchvision import transforms\n",
    "from torchvision.transforms import ToTensor"
   ]
  },
  {
   "cell_type": "code",
   "execution_count": 2,
   "id": "93f36fa2",
   "metadata": {},
   "outputs": [
    {
     "data": {
      "text/plain": [
       "'cuda'"
      ]
     },
     "execution_count": 2,
     "metadata": {},
     "output_type": "execute_result"
    }
   ],
   "source": [
    "device = \"cuda\" if torch.cuda.is_available() else \"cpu\"\n",
    "device"
   ]
  },
  {
   "cell_type": "markdown",
   "id": "f66fa994",
   "metadata": {},
   "source": [
    "## Getting dataset"
   ]
  },
  {
   "cell_type": "code",
   "execution_count": 3,
   "id": "3c190484",
   "metadata": {},
   "outputs": [],
   "source": [
    "train_data = datasets.FashionMNIST(\n",
    "                root = \"data\", #Where to download data to?\n",
    "                train = True, #Do you want the training set?\n",
    "                download = True, #Do you want to download?\n",
    "                transform = torchvision.transforms.ToTensor(), #How to transform the data?\n",
    "                target_transform = None #How to transform the target?\n",
    ")\n",
    "\n",
    "test_data = datasets.FashionMNIST(\n",
    "                root = \"data\", #Where to download data to?\n",
    "                train = False, #Do you want the training set?\n",
    "                download = True, #Do you want to download?\n",
    "                transform = torchvision.transforms.ToTensor(), #How to transform the data?\n",
    "                target_transform = None #How to transform the target?\n",
    ")"
   ]
  },
  {
   "cell_type": "code",
   "execution_count": 4,
   "id": "7645ccab",
   "metadata": {},
   "outputs": [
    {
     "data": {
      "text/plain": [
       "(60000, 10000)"
      ]
     },
     "execution_count": 4,
     "metadata": {},
     "output_type": "execute_result"
    }
   ],
   "source": [
    "len(train_data), len(test_data)"
   ]
  },
  {
   "cell_type": "code",
   "execution_count": 5,
   "id": "1a24c9f9",
   "metadata": {},
   "outputs": [
    {
     "data": {
      "text/plain": [
       "['T-shirt/top',\n",
       " 'Trouser',\n",
       " 'Pullover',\n",
       " 'Dress',\n",
       " 'Coat',\n",
       " 'Sandal',\n",
       " 'Shirt',\n",
       " 'Sneaker',\n",
       " 'Bag',\n",
       " 'Ankle boot']"
      ]
     },
     "execution_count": 5,
     "metadata": {},
     "output_type": "execute_result"
    }
   ],
   "source": [
    "class_names = train_data.classes\n",
    "class_names"
   ]
  },
  {
   "cell_type": "code",
   "execution_count": 6,
   "id": "022e437d",
   "metadata": {},
   "outputs": [
    {
     "data": {
      "text/plain": [
       "{'T-shirt/top': 0,\n",
       " 'Trouser': 1,\n",
       " 'Pullover': 2,\n",
       " 'Dress': 3,\n",
       " 'Coat': 4,\n",
       " 'Sandal': 5,\n",
       " 'Shirt': 6,\n",
       " 'Sneaker': 7,\n",
       " 'Bag': 8,\n",
       " 'Ankle boot': 9}"
      ]
     },
     "execution_count": 6,
     "metadata": {},
     "output_type": "execute_result"
    }
   ],
   "source": [
    "train_data.class_to_idx"
   ]
  },
  {
   "cell_type": "code",
   "execution_count": 7,
   "id": "90f6db44",
   "metadata": {},
   "outputs": [
    {
     "data": {
      "text/plain": [
       "tensor([9, 0, 0,  ..., 3, 0, 5])"
      ]
     },
     "execution_count": 7,
     "metadata": {},
     "output_type": "execute_result"
    }
   ],
   "source": [
    "train_data.targets"
   ]
  },
  {
   "cell_type": "markdown",
   "id": "4a0f5e9a",
   "metadata": {},
   "source": [
    "## Check input and output shapes of data"
   ]
  },
  {
   "cell_type": "code",
   "execution_count": 8,
   "id": "b3b3d7e7",
   "metadata": {},
   "outputs": [
    {
     "data": {
      "text/plain": [
       "9"
      ]
     },
     "execution_count": 8,
     "metadata": {},
     "output_type": "execute_result"
    }
   ],
   "source": [
    "image, label = train_data[0]\n",
    "label"
   ]
  },
  {
   "cell_type": "code",
   "execution_count": 9,
   "id": "f8560f01",
   "metadata": {},
   "outputs": [
    {
     "data": {
      "text/plain": [
       "torch.Size([1, 28, 28])"
      ]
     },
     "execution_count": 9,
     "metadata": {},
     "output_type": "execute_result"
    }
   ],
   "source": [
    "image.shape"
   ]
  },
  {
   "cell_type": "markdown",
   "id": "ead7982a",
   "metadata": {},
   "source": [
    "## Visualizing our data"
   ]
  },
  {
   "cell_type": "code",
   "execution_count": 10,
   "id": "ccac9d80",
   "metadata": {},
   "outputs": [
    {
     "data": {
      "text/plain": [
       "tensor([[[0.0000, 0.0000, 0.0000, 0.0000, 0.0000, 0.0000, 0.0000, 0.0000,\n",
       "          0.0000, 0.0000, 0.0000, 0.0000, 0.0000, 0.0000, 0.0000, 0.0000,\n",
       "          0.0000, 0.0000, 0.0000, 0.0000, 0.0000, 0.0000, 0.0000, 0.0000,\n",
       "          0.0000, 0.0000, 0.0000, 0.0000],\n",
       "         [0.0000, 0.0000, 0.0000, 0.0000, 0.0000, 0.0000, 0.0000, 0.0000,\n",
       "          0.0000, 0.0000, 0.0000, 0.0000, 0.0000, 0.0000, 0.0000, 0.0000,\n",
       "          0.0000, 0.0000, 0.0000, 0.0000, 0.0000, 0.0000, 0.0000, 0.0000,\n",
       "          0.0000, 0.0000, 0.0000, 0.0000],\n",
       "         [0.0000, 0.0000, 0.0000, 0.0000, 0.0000, 0.0000, 0.0000, 0.0000,\n",
       "          0.0000, 0.0000, 0.0000, 0.0000, 0.0000, 0.0000, 0.0000, 0.0000,\n",
       "          0.0000, 0.0000, 0.0000, 0.0000, 0.0000, 0.0000, 0.0000, 0.0000,\n",
       "          0.0000, 0.0000, 0.0000, 0.0000],\n",
       "         [0.0000, 0.0000, 0.0000, 0.0000, 0.0000, 0.0000, 0.0000, 0.0000,\n",
       "          0.0000, 0.0000, 0.0000, 0.0000, 0.0039, 0.0000, 0.0000, 0.0510,\n",
       "          0.2863, 0.0000, 0.0000, 0.0039, 0.0157, 0.0000, 0.0000, 0.0000,\n",
       "          0.0000, 0.0039, 0.0039, 0.0000],\n",
       "         [0.0000, 0.0000, 0.0000, 0.0000, 0.0000, 0.0000, 0.0000, 0.0000,\n",
       "          0.0000, 0.0000, 0.0000, 0.0000, 0.0118, 0.0000, 0.1412, 0.5333,\n",
       "          0.4980, 0.2431, 0.2118, 0.0000, 0.0000, 0.0000, 0.0039, 0.0118,\n",
       "          0.0157, 0.0000, 0.0000, 0.0118],\n",
       "         [0.0000, 0.0000, 0.0000, 0.0000, 0.0000, 0.0000, 0.0000, 0.0000,\n",
       "          0.0000, 0.0000, 0.0000, 0.0000, 0.0235, 0.0000, 0.4000, 0.8000,\n",
       "          0.6902, 0.5255, 0.5647, 0.4824, 0.0902, 0.0000, 0.0000, 0.0000,\n",
       "          0.0000, 0.0471, 0.0392, 0.0000],\n",
       "         [0.0000, 0.0000, 0.0000, 0.0000, 0.0000, 0.0000, 0.0000, 0.0000,\n",
       "          0.0000, 0.0000, 0.0000, 0.0000, 0.0000, 0.0000, 0.6078, 0.9255,\n",
       "          0.8118, 0.6980, 0.4196, 0.6118, 0.6314, 0.4275, 0.2510, 0.0902,\n",
       "          0.3020, 0.5098, 0.2824, 0.0588],\n",
       "         [0.0000, 0.0000, 0.0000, 0.0000, 0.0000, 0.0000, 0.0000, 0.0000,\n",
       "          0.0000, 0.0000, 0.0000, 0.0039, 0.0000, 0.2706, 0.8118, 0.8745,\n",
       "          0.8549, 0.8471, 0.8471, 0.6392, 0.4980, 0.4745, 0.4784, 0.5725,\n",
       "          0.5529, 0.3451, 0.6745, 0.2588],\n",
       "         [0.0000, 0.0000, 0.0000, 0.0000, 0.0000, 0.0000, 0.0000, 0.0000,\n",
       "          0.0000, 0.0039, 0.0039, 0.0039, 0.0000, 0.7843, 0.9098, 0.9098,\n",
       "          0.9137, 0.8980, 0.8745, 0.8745, 0.8431, 0.8353, 0.6431, 0.4980,\n",
       "          0.4824, 0.7686, 0.8980, 0.0000],\n",
       "         [0.0000, 0.0000, 0.0000, 0.0000, 0.0000, 0.0000, 0.0000, 0.0000,\n",
       "          0.0000, 0.0000, 0.0000, 0.0000, 0.0000, 0.7176, 0.8824, 0.8471,\n",
       "          0.8745, 0.8941, 0.9216, 0.8902, 0.8784, 0.8706, 0.8784, 0.8667,\n",
       "          0.8745, 0.9608, 0.6784, 0.0000],\n",
       "         [0.0000, 0.0000, 0.0000, 0.0000, 0.0000, 0.0000, 0.0000, 0.0000,\n",
       "          0.0000, 0.0000, 0.0000, 0.0000, 0.0000, 0.7569, 0.8941, 0.8549,\n",
       "          0.8353, 0.7765, 0.7059, 0.8314, 0.8235, 0.8275, 0.8353, 0.8745,\n",
       "          0.8627, 0.9529, 0.7922, 0.0000],\n",
       "         [0.0000, 0.0000, 0.0000, 0.0000, 0.0000, 0.0000, 0.0000, 0.0000,\n",
       "          0.0000, 0.0039, 0.0118, 0.0000, 0.0471, 0.8588, 0.8627, 0.8314,\n",
       "          0.8549, 0.7529, 0.6627, 0.8902, 0.8157, 0.8549, 0.8784, 0.8314,\n",
       "          0.8863, 0.7725, 0.8196, 0.2039],\n",
       "         [0.0000, 0.0000, 0.0000, 0.0000, 0.0000, 0.0000, 0.0000, 0.0000,\n",
       "          0.0000, 0.0000, 0.0235, 0.0000, 0.3882, 0.9569, 0.8706, 0.8627,\n",
       "          0.8549, 0.7961, 0.7765, 0.8667, 0.8431, 0.8353, 0.8706, 0.8627,\n",
       "          0.9608, 0.4667, 0.6549, 0.2196],\n",
       "         [0.0000, 0.0000, 0.0000, 0.0000, 0.0000, 0.0000, 0.0000, 0.0000,\n",
       "          0.0000, 0.0157, 0.0000, 0.0000, 0.2157, 0.9255, 0.8941, 0.9020,\n",
       "          0.8941, 0.9412, 0.9098, 0.8353, 0.8549, 0.8745, 0.9176, 0.8510,\n",
       "          0.8510, 0.8196, 0.3608, 0.0000],\n",
       "         [0.0000, 0.0000, 0.0039, 0.0157, 0.0235, 0.0275, 0.0078, 0.0000,\n",
       "          0.0000, 0.0000, 0.0000, 0.0000, 0.9294, 0.8863, 0.8510, 0.8745,\n",
       "          0.8706, 0.8588, 0.8706, 0.8667, 0.8471, 0.8745, 0.8980, 0.8431,\n",
       "          0.8549, 1.0000, 0.3020, 0.0000],\n",
       "         [0.0000, 0.0118, 0.0000, 0.0000, 0.0000, 0.0000, 0.0000, 0.0000,\n",
       "          0.0000, 0.2431, 0.5686, 0.8000, 0.8941, 0.8118, 0.8353, 0.8667,\n",
       "          0.8549, 0.8157, 0.8275, 0.8549, 0.8784, 0.8745, 0.8588, 0.8431,\n",
       "          0.8784, 0.9569, 0.6235, 0.0000],\n",
       "         [0.0000, 0.0000, 0.0000, 0.0000, 0.0706, 0.1725, 0.3216, 0.4196,\n",
       "          0.7412, 0.8941, 0.8627, 0.8706, 0.8510, 0.8863, 0.7843, 0.8039,\n",
       "          0.8275, 0.9020, 0.8784, 0.9176, 0.6902, 0.7373, 0.9804, 0.9725,\n",
       "          0.9137, 0.9333, 0.8431, 0.0000],\n",
       "         [0.0000, 0.2235, 0.7333, 0.8157, 0.8784, 0.8667, 0.8784, 0.8157,\n",
       "          0.8000, 0.8392, 0.8157, 0.8196, 0.7843, 0.6235, 0.9608, 0.7569,\n",
       "          0.8078, 0.8745, 1.0000, 1.0000, 0.8667, 0.9176, 0.8667, 0.8275,\n",
       "          0.8627, 0.9098, 0.9647, 0.0000],\n",
       "         [0.0118, 0.7922, 0.8941, 0.8784, 0.8667, 0.8275, 0.8275, 0.8392,\n",
       "          0.8039, 0.8039, 0.8039, 0.8627, 0.9412, 0.3137, 0.5882, 1.0000,\n",
       "          0.8980, 0.8667, 0.7373, 0.6039, 0.7490, 0.8235, 0.8000, 0.8196,\n",
       "          0.8706, 0.8941, 0.8824, 0.0000],\n",
       "         [0.3843, 0.9137, 0.7765, 0.8235, 0.8706, 0.8980, 0.8980, 0.9176,\n",
       "          0.9765, 0.8627, 0.7608, 0.8431, 0.8510, 0.9451, 0.2549, 0.2863,\n",
       "          0.4157, 0.4588, 0.6588, 0.8588, 0.8667, 0.8431, 0.8510, 0.8745,\n",
       "          0.8745, 0.8784, 0.8980, 0.1137],\n",
       "         [0.2941, 0.8000, 0.8314, 0.8000, 0.7569, 0.8039, 0.8275, 0.8824,\n",
       "          0.8471, 0.7255, 0.7725, 0.8078, 0.7765, 0.8353, 0.9412, 0.7647,\n",
       "          0.8902, 0.9608, 0.9373, 0.8745, 0.8549, 0.8314, 0.8196, 0.8706,\n",
       "          0.8627, 0.8667, 0.9020, 0.2627],\n",
       "         [0.1882, 0.7961, 0.7176, 0.7608, 0.8353, 0.7725, 0.7255, 0.7451,\n",
       "          0.7608, 0.7529, 0.7922, 0.8392, 0.8588, 0.8667, 0.8627, 0.9255,\n",
       "          0.8824, 0.8471, 0.7804, 0.8078, 0.7294, 0.7098, 0.6941, 0.6745,\n",
       "          0.7098, 0.8039, 0.8078, 0.4510],\n",
       "         [0.0000, 0.4784, 0.8588, 0.7569, 0.7020, 0.6706, 0.7176, 0.7686,\n",
       "          0.8000, 0.8235, 0.8353, 0.8118, 0.8275, 0.8235, 0.7843, 0.7686,\n",
       "          0.7608, 0.7490, 0.7647, 0.7490, 0.7765, 0.7529, 0.6902, 0.6118,\n",
       "          0.6549, 0.6941, 0.8235, 0.3608],\n",
       "         [0.0000, 0.0000, 0.2902, 0.7412, 0.8314, 0.7490, 0.6863, 0.6745,\n",
       "          0.6863, 0.7098, 0.7255, 0.7373, 0.7412, 0.7373, 0.7569, 0.7765,\n",
       "          0.8000, 0.8196, 0.8235, 0.8235, 0.8275, 0.7373, 0.7373, 0.7608,\n",
       "          0.7529, 0.8471, 0.6667, 0.0000],\n",
       "         [0.0078, 0.0000, 0.0000, 0.0000, 0.2588, 0.7843, 0.8706, 0.9294,\n",
       "          0.9373, 0.9490, 0.9647, 0.9529, 0.9569, 0.8667, 0.8627, 0.7569,\n",
       "          0.7490, 0.7020, 0.7137, 0.7137, 0.7098, 0.6902, 0.6510, 0.6588,\n",
       "          0.3882, 0.2275, 0.0000, 0.0000],\n",
       "         [0.0000, 0.0000, 0.0000, 0.0000, 0.0000, 0.0000, 0.0000, 0.1569,\n",
       "          0.2392, 0.1725, 0.2824, 0.1608, 0.1373, 0.0000, 0.0000, 0.0000,\n",
       "          0.0000, 0.0000, 0.0000, 0.0000, 0.0000, 0.0000, 0.0000, 0.0000,\n",
       "          0.0000, 0.0000, 0.0000, 0.0000],\n",
       "         [0.0000, 0.0000, 0.0000, 0.0000, 0.0000, 0.0000, 0.0000, 0.0000,\n",
       "          0.0000, 0.0000, 0.0000, 0.0000, 0.0000, 0.0000, 0.0000, 0.0000,\n",
       "          0.0000, 0.0000, 0.0000, 0.0000, 0.0000, 0.0000, 0.0000, 0.0000,\n",
       "          0.0000, 0.0000, 0.0000, 0.0000],\n",
       "         [0.0000, 0.0000, 0.0000, 0.0000, 0.0000, 0.0000, 0.0000, 0.0000,\n",
       "          0.0000, 0.0000, 0.0000, 0.0000, 0.0000, 0.0000, 0.0000, 0.0000,\n",
       "          0.0000, 0.0000, 0.0000, 0.0000, 0.0000, 0.0000, 0.0000, 0.0000,\n",
       "          0.0000, 0.0000, 0.0000, 0.0000]]])"
      ]
     },
     "execution_count": 10,
     "metadata": {},
     "output_type": "execute_result"
    }
   ],
   "source": [
    "image"
   ]
  },
  {
   "cell_type": "code",
   "execution_count": 11,
   "id": "567b30be",
   "metadata": {},
   "outputs": [
    {
     "data": {
      "text/plain": [
       "Text(0.5, 1.0, '9')"
      ]
     },
     "execution_count": 11,
     "metadata": {},
     "output_type": "execute_result"
    },
    {
     "data": {
      "image/png": "[encoded data removed]",
      "text/plain": [
       "<Figure size 432x288 with 1 Axes>"
      ]
     },
     "metadata": {
      "needs_background": "light"
     },
     "output_type": "display_data"
    }
   ],
   "source": [
    "plt.imshow(image.squeeze())\n",
    "plt.title(label)"
   ]
  },
  {
   "cell_type": "code",
   "execution_count": 12,
   "id": "8925e06c",
   "metadata": {},
   "outputs": [
    {
     "data": {
      "text/plain": [
       "(-0.5, 27.5, 27.5, -0.5)"
      ]
     },
     "execution_count": 12,
     "metadata": {},
     "output_type": "execute_result"
    },
    {
     "data": {
      "image/png": "[encoded data removed]",
      "text/plain": [
       "<Figure size 432x288 with 1 Axes>"
      ]
     },
     "metadata": {
      "needs_background": "light"
     },
     "output_type": "display_data"
    }
   ],
   "source": [
    "plt.imshow(image.squeeze(), cmap=\"gray\")\n",
    "plt.title(class_names[label])\n",
    "plt.axis(False)"
   ]
  },
  {
   "cell_type": "code",
   "execution_count": 13,
   "id": "b2c19acf",
   "metadata": {},
   "outputs": [
    {
     "data": {
      "image/png": "[encoded data removed]",
      "text/plain": [
       "<Figure size 648x648 with 16 Axes>"
      ]
     },
     "metadata": {
      "needs_background": "light"
     },
     "output_type": "display_data"
    }
   ],
   "source": [
    "torch.manual_seed(42)\n",
    "fig = plt.figure(figsize = (9, 9))\n",
    "rows, cols = 4, 4\n",
    "for i in range(1, rows*cols+1):\n",
    "    random_idx = torch.randint(0, len(train_data), size = [1]).item()\n",
    "    img, label = train_data[random_idx]\n",
    "    fig.add_subplot(rows, cols, i)\n",
    "    plt.imshow(img.squeeze(), cmap = \"gray\")\n",
    "    plt.title(class_names[label])\n",
    "    plt.axis(False)"
   ]
  },
  {
   "cell_type": "code",
   "execution_count": 14,
   "id": "7b4590ee",
   "metadata": {},
   "outputs": [
    {
     "data": {
      "text/plain": [
       "(Dataset FashionMNIST\n",
       "     Number of datapoints: 60000\n",
       "     Root location: data\n",
       "     Split: Train\n",
       "     StandardTransform\n",
       " Transform: ToTensor(),\n",
       " Dataset FashionMNIST\n",
       "     Number of datapoints: 10000\n",
       "     Root location: data\n",
       "     Split: Test\n",
       "     StandardTransform\n",
       " Transform: ToTensor())"
      ]
     },
     "execution_count": 14,
     "metadata": {},
     "output_type": "execute_result"
    }
   ],
   "source": [
    "train_data, test_data"
   ]
  },
  {
   "cell_type": "markdown",
   "id": "59e8b915",
   "metadata": {},
   "source": [
    "## Prepare DataLoader\n",
    "Turns our data into batches or mini-batches for mini batch gradient descent\n",
    "1. It is more computationally efficient, as computing hardware may not be able to look at 60k images in one hit\n",
    "2. Gives Neural Network more chances to update gradients per epoch\n",
    "3. Allows shuffling of data so that Neural Network does not end up learning the order of the images\n"
   ]
  },
  {
   "cell_type": "code",
   "execution_count": 15,
   "id": "57722b5d",
   "metadata": {},
   "outputs": [
    {
     "data": {
      "text/plain": [
       "(<torch.utils.data.dataloader.DataLoader at 0x217691553a0>,\n",
       " <torch.utils.data.dataloader.DataLoader at 0x21769155250>)"
      ]
     },
     "execution_count": 15,
     "metadata": {},
     "output_type": "execute_result"
    }
   ],
   "source": [
    "from torch.utils.data import DataLoader\n",
    "\n",
    "train_dataloader = DataLoader(dataset = train_data, \n",
    "                              batch_size = 32,\n",
    "                              shuffle = True)\n",
    "\n",
    "test_dataloader = DataLoader(dataset = test_data,\n",
    "                             batch_size = 32,\n",
    "                             shuffle = False)\n",
    "\n",
    "train_dataloader, test_dataloader"
   ]
  },
  {
   "cell_type": "code",
   "execution_count": 16,
   "id": "b519e563",
   "metadata": {},
   "outputs": [
    {
     "data": {
      "text/plain": [
       "(torch.Size([32, 1, 28, 28]), torch.Size([32]))"
      ]
     },
     "execution_count": 16,
     "metadata": {},
     "output_type": "execute_result"
    }
   ],
   "source": [
    "train_features_batch, train_labels_batch = next(iter(train_dataloader))\n",
    "train_features_batch.shape, train_labels_batch.shape"
   ]
  },
  {
   "cell_type": "code",
   "execution_count": 17,
   "id": "75b7177a",
   "metadata": {},
   "outputs": [
    {
     "data": {
      "text/plain": [
       "(-0.5, 27.5, 27.5, -0.5)"
      ]
     },
     "execution_count": 17,
     "metadata": {},
     "output_type": "execute_result"
    },
    {
     "data": {
      "image/png": "[encoded data removed]",
      "text/plain": [
       "<Figure size 432x288 with 1 Axes>"
      ]
     },
     "metadata": {
      "needs_background": "light"
     },
     "output_type": "display_data"
    }
   ],
   "source": [
    "torch.manual_seed(5)\n",
    "\n",
    "random_idx = torch.randint(0, len(train_features_batch), size = [1]).item()\n",
    "img, label = train_features_batch[random_idx], train_labels_batch[random_idx]\n",
    "plt.imshow(img.squeeze(), cmap = \"gray\")\n",
    "plt.title(class_names[label])\n",
    "plt.axis(False)"
   ]
  },
  {
   "cell_type": "markdown",
   "id": "7f5eac08",
   "metadata": {},
   "source": [
    "## Building baseline model"
   ]
  },
  {
   "cell_type": "code",
   "execution_count": 18,
   "id": "20184aa0",
   "metadata": {},
   "outputs": [
    {
     "data": {
      "text/plain": [
       "(torch.Size([1, 28, 28]), torch.Size([1, 784]))"
      ]
     },
     "execution_count": 18,
     "metadata": {},
     "output_type": "execute_result"
    }
   ],
   "source": [
    "flatten_model = nn.Flatten()\n",
    "\n",
    "x = train_features_batch[0]\n",
    "\n",
    "output = flatten_model(x)\n",
    "\n",
    "x.shape, output.shape"
   ]
  },
  {
   "cell_type": "code",
   "execution_count": 19,
   "id": "24fe409a",
   "metadata": {},
   "outputs": [],
   "source": [
    "class FashionMNISTModel(nn.Module):\n",
    "    def __init__(self, input_shape: int, hidden_units: int, output_shape: 10):\n",
    "        super().__init__()\n",
    "        self.layer_stack = nn.Sequential(nn.Flatten(),\n",
    "                                         nn.Linear(in_features = input_shape, out_features = hidden_units),\n",
    "                                         nn.Linear(in_features = hidden_units, out_features = output_shape)\n",
    "                                            )\n",
    "    \n",
    "    def forward(self, x):\n",
    "        return self.layer_stack(x)"
   ]
  },
  {
   "cell_type": "code",
   "execution_count": 20,
   "id": "63c08a2c",
   "metadata": {},
   "outputs": [
    {
     "data": {
      "text/plain": [
       "FashionMNISTModel(\n",
       "  (layer_stack): Sequential(\n",
       "    (0): Flatten(start_dim=1, end_dim=-1)\n",
       "    (1): Linear(in_features=784, out_features=10, bias=True)\n",
       "    (2): Linear(in_features=10, out_features=10, bias=True)\n",
       "  )\n",
       ")"
      ]
     },
     "execution_count": 20,
     "metadata": {},
     "output_type": "execute_result"
    }
   ],
   "source": [
    "torch.manual_seed(42)\n",
    "model_0 = FashionMNISTModel(input_shape = 784, hidden_units = 10, output_shape = len(class_names)).to(\"cpu\")\n",
    "\n",
    "model_0"
   ]
  },
  {
   "cell_type": "code",
   "execution_count": 21,
   "id": "17e41b25",
   "metadata": {},
   "outputs": [],
   "source": [
    "from helper_functions import plot_predictions, plot_decision_boundary, accuracy_fn"
   ]
  },
  {
   "cell_type": "code",
   "execution_count": 22,
   "id": "55008428",
   "metadata": {},
   "outputs": [],
   "source": [
    "loss_fn = nn.CrossEntropyLoss()\n",
    "optimizer = torch.optim.SGD(params = model_0.parameters(), lr = 0.1)"
   ]
  },
  {
   "cell_type": "code",
   "execution_count": 23,
   "id": "79d6f5b5",
   "metadata": {},
   "outputs": [],
   "source": [
    "from timeit import default_timer as timer\n",
    "def print_train_time(start:float, end:float, device: torch.device = None):\n",
    "    total_time = end - start\n",
    "    print(total_time)"
   ]
  },
  {
   "cell_type": "markdown",
   "id": "312d68a7",
   "metadata": {},
   "source": [
    "1. Loop thru epochs\n",
    "2. Loop thru training batches and calculate metrics per batch\n",
    "3. Loop thru testing batches and calculate metrics per batch\n",
    "4. Time it all"
   ]
  },
  {
   "cell_type": "code",
   "execution_count": 24,
   "id": "f944be72",
   "metadata": {},
   "outputs": [
    {
     "data": {
      "application/vnd.jupyter.widget-view+json": {
       "model_id": "04973b0cb7cd4531babc88fed7ec68e3",
       "version_major": 2,
       "version_minor": 0
      },
      "text/plain": [
       "  0%|          | 0/3 [00:00<?, ?it/s]"
      ]
     },
     "metadata": {},
     "output_type": "display_data"
    },
    {
     "name": "stdout",
     "output_type": "stream",
     "text": [
      "Samples Trained: 0\n",
      "Samples Trained: 12800\n",
      "Samples Trained: 25600\n",
      "Samples Trained: 38400\n",
      "Samples Trained: 51200\n",
      "Train Loss : 0.5903893113136292\n",
      "Test Loss : 0.5095351338386536\n",
      "Test Accuracy : 82.03873801916933\n",
      "Samples Trained: 0\n",
      "Samples Trained: 12800\n",
      "Samples Trained: 25600\n",
      "Samples Trained: 38400\n",
      "Samples Trained: 51200\n",
      "Train Loss : 0.4763319194316864\n",
      "Test Loss : 0.47989004850387573\n",
      "Test Accuracy : 83.19688498402556\n",
      "Samples Trained: 0\n",
      "Samples Trained: 12800\n",
      "Samples Trained: 25600\n",
      "Samples Trained: 38400\n",
      "Samples Trained: 51200\n",
      "Train Loss : 0.4550332725048065\n",
      "Test Loss : 0.4766390025615692\n",
      "Test Accuracy : 83.42651757188499\n",
      "79.0035833\n"
     ]
    }
   ],
   "source": [
    "from tqdm.auto import tqdm\n",
    "\n",
    "torch.manual_seed(42)\n",
    "train_start = timer()\n",
    "\n",
    "epochs = 3\n",
    "\n",
    "for epoch in tqdm(range(epochs)):\n",
    "    train_loss = 0\n",
    "    \n",
    "    for batch, (X, y) in enumerate(train_dataloader):\n",
    "        model_0.train()\n",
    "        y_pred = model_0(X)\n",
    "        \n",
    "        loss = loss_fn(y_pred, y)\n",
    "        train_loss += loss\n",
    "        \n",
    "        optimizer.zero_grad()\n",
    "        loss.backward()\n",
    "        optimizer.step()\n",
    "        \n",
    "        if batch%400 == 0:\n",
    "            print(f\"Samples Trained: {batch*len(X)}\")\n",
    "            \n",
    "    train_loss /= len(train_dataloader)\n",
    "    \n",
    "    test_loss, test_acc = 0, 0\n",
    "    \n",
    "    model_0.eval()\n",
    "    with torch.inference_mode():\n",
    "        for X_test, y_test in test_dataloader:\n",
    "            test_pred = model_0(X_test)\n",
    "            test_loss += loss_fn(test_pred, y_test)\n",
    "            test_acc += accuracy_fn(y_true = y_test, y_pred = test_pred.argmax(dim = 1))\n",
    "            \n",
    "        test_loss /= len(test_dataloader)\n",
    "        test_acc /= len(test_dataloader)\n",
    "        \n",
    "    print(f\"Train Loss : {train_loss}\")\n",
    "    print(f\"Test Loss : {test_loss}\")\n",
    "    print(f\"Test Accuracy : {test_acc}\")\n",
    "    \n",
    "train_end = timer()\n",
    "\n",
    "print_train_time(train_start, train_end, device = str(next(model_0.parameters()).device))"
   ]
  },
  {
   "cell_type": "markdown",
   "id": "f55d4413",
   "metadata": {},
   "source": [
    "## Make predictions and get model results"
   ]
  },
  {
   "cell_type": "code",
   "execution_count": 25,
   "id": "331f4dab",
   "metadata": {},
   "outputs": [],
   "source": [
    "torch.manual_seed(42)\n",
    "\n",
    "def eval_model(model: torch.nn.Module,\n",
    "               data_loader: torch.utils.data.DataLoader,\n",
    "               loss_fn: torch.nn.Module,\n",
    "               accuracy_fn,\n",
    "               device: torch.device = device):\n",
    "    loss, acc = 0, 0\n",
    "    model.eval()\n",
    "    with torch.inference_mode():\n",
    "        for X, y in data_loader:\n",
    "            X, y = X.to(device), y.to(device)\n",
    "            y_pred = model(X)\n",
    "            loss += loss_fn(y_pred, y)\n",
    "            acc += accuracy_fn(y_true = y, y_pred = y_pred.argmax(dim = 1))\n",
    "            \n",
    "        loss /= len(data_loader)\n",
    "        acc /= len(data_loader)\n",
    "        \n",
    "    return {\"model_name\": model.__class__.__name__,\n",
    "            \"model_loss\": loss.item(),\n",
    "            \"model_acc\": acc}\n"
   ]
  },
  {
   "cell_type": "code",
   "execution_count": 26,
   "id": "399980e8",
   "metadata": {},
   "outputs": [
    {
     "data": {
      "text/plain": [
       "{'model_name': 'FashionMNISTModel',\n",
       " 'model_loss': 0.4766390025615692,\n",
       " 'model_acc': 83.42651757188499}"
      ]
     },
     "execution_count": 26,
     "metadata": {},
     "output_type": "execute_result"
    }
   ],
   "source": [
    "model_0_res = eval_model(model_0, test_dataloader, loss_fn, accuracy_fn, 'cpu')\n",
    "\n",
    "model_0_res"
   ]
  },
  {
   "cell_type": "code",
   "execution_count": 27,
   "id": "68bc4f1a",
   "metadata": {},
   "outputs": [
    {
     "data": {
      "text/plain": [
       "'cuda'"
      ]
     },
     "execution_count": 27,
     "metadata": {},
     "output_type": "execute_result"
    }
   ],
   "source": [
    "device = \"cuda\" if torch.cuda.is_available() else \"cpu\"\n",
    "device"
   ]
  },
  {
   "cell_type": "markdown",
   "id": "b7a1151c",
   "metadata": {},
   "source": [
    "## Creating model with linear and non linear layers"
   ]
  },
  {
   "cell_type": "code",
   "execution_count": 28,
   "id": "caaffb0c",
   "metadata": {},
   "outputs": [],
   "source": [
    "class FashionMNISTModel_V2(nn.Module):\n",
    "    def __init__(self, input_shape: int, hidden_units: int, output_shape: 10):\n",
    "        super().__init__()\n",
    "        self.layer_stack = nn.Sequential(nn.Flatten(),\n",
    "                                         nn.Linear(in_features = input_shape, out_features = hidden_units),\n",
    "                                         nn.ReLU(),\n",
    "                                         nn.Linear(in_features = hidden_units, out_features = output_shape),\n",
    "                                         nn.ReLU()\n",
    "                                            )\n",
    "    \n",
    "    def forward(self, x):\n",
    "        return self.layer_stack(x)"
   ]
  },
  {
   "cell_type": "code",
   "execution_count": 29,
   "id": "d4f17cc2",
   "metadata": {},
   "outputs": [
    {
     "data": {
      "text/plain": [
       "FashionMNISTModel_V2(\n",
       "  (layer_stack): Sequential(\n",
       "    (0): Flatten(start_dim=1, end_dim=-1)\n",
       "    (1): Linear(in_features=784, out_features=10, bias=True)\n",
       "    (2): ReLU()\n",
       "    (3): Linear(in_features=10, out_features=10, bias=True)\n",
       "    (4): ReLU()\n",
       "  )\n",
       ")"
      ]
     },
     "execution_count": 29,
     "metadata": {},
     "output_type": "execute_result"
    }
   ],
   "source": [
    "torch.manual_seed(42)\n",
    "model_2 = FashionMNISTModel_V2(input_shape = 784, hidden_units = 10, output_shape = len(class_names)).to(device)\n",
    "\n",
    "model_2"
   ]
  },
  {
   "cell_type": "code",
   "execution_count": 30,
   "id": "c89f7baa",
   "metadata": {},
   "outputs": [],
   "source": [
    "loss_fn = nn.CrossEntropyLoss()\n",
    "optimizer = torch.optim.SGD(params = model_2.parameters(), lr = 0.1)"
   ]
  },
  {
   "cell_type": "markdown",
   "id": "0bf2d741",
   "metadata": {},
   "source": [
    "## Functionizing training and test loops"
   ]
  },
  {
   "cell_type": "code",
   "execution_count": 31,
   "id": "0ebf6b28",
   "metadata": {},
   "outputs": [],
   "source": [
    "def train_step(model: torch.nn.Module,\n",
    "               data_loader: torch.utils.data.DataLoader,\n",
    "               loss_fn: torch.nn.Module,\n",
    "               optimizer: torch.optim.Optimizer,\n",
    "               accuracy_fn,\n",
    "               device: torch.device = device):\n",
    "    \n",
    "    train_loss, train_acc = 0, 0\n",
    "    model.train()\n",
    "    \n",
    "    for batch, (X, y) in enumerate(data_loader):\n",
    "        X, y = X.to(device), y.to(device)\n",
    "        \n",
    "        y_pred = model(X)\n",
    "        \n",
    "        loss = loss_fn(y_pred, y)\n",
    "        train_loss += loss\n",
    "        train_acc += accuracy_fn(y_true = y, y_pred = y_pred.argmax(dim = 1))\n",
    "        \n",
    "        optimizer.zero_grad()\n",
    "        loss.backward()\n",
    "        optimizer.step()\n",
    "        \n",
    "        if batch%400 == 0:\n",
    "            print(f\"Samples Trained: {batch*len(X)}\")\n",
    "            \n",
    "    train_loss /= len(data_loader)\n",
    "    train_acc /= len(data_loader)\n",
    "    \n",
    "    print(f\"Train Loss: {train_loss:.5f}\")\n",
    "    print(f\"Train Accuracy: {train_acc:.5f}\")"
   ]
  },
  {
   "cell_type": "code",
   "execution_count": 32,
   "id": "f26ea390",
   "metadata": {},
   "outputs": [],
   "source": [
    "def test_step(model: torch.nn.Module,\n",
    "              data_loader: torch.utils.data.DataLoader,\n",
    "              loss_fn: torch.nn.Module,\n",
    "              accuracy_fn,\n",
    "              device: torch.device = device):\n",
    "    \n",
    "    test_loss, test_acc = 0, 0\n",
    "    \n",
    "    model.eval()\n",
    "    with torch.inference_mode():\n",
    "        for X, y in data_loader:\n",
    "            X, y = X.to(device), y.to(device)\n",
    "            test_pred = model(X)\n",
    "            test_loss += loss_fn(test_pred, y)\n",
    "            test_acc += accuracy_fn(y_true = y, y_pred = test_pred.argmax(dim = 1))\n",
    "            \n",
    "        test_loss /= len(data_loader)\n",
    "        test_acc /= len(data_loader)\n",
    "        \n",
    "        print(f\"Test Loss: {test_loss:.5f}\")\n",
    "        print(f\"Test Accuracy: {test_acc:.5f}\")"
   ]
  },
  {
   "cell_type": "code",
   "execution_count": 33,
   "id": "82a51cd3",
   "metadata": {},
   "outputs": [
    {
     "data": {
      "application/vnd.jupyter.widget-view+json": {
       "model_id": "8e2d242edb504fffb6eebfee2e0d39a5",
       "version_major": 2,
       "version_minor": 0
      },
      "text/plain": [
       "  0%|          | 0/5 [00:00<?, ?it/s]"
      ]
     },
     "metadata": {},
     "output_type": "display_data"
    },
    {
     "name": "stdout",
     "output_type": "stream",
     "text": [
      "Samples Trained: 0\n",
      "Samples Trained: 12800\n",
      "Samples Trained: 25600\n",
      "Samples Trained: 38400\n",
      "Samples Trained: 51200\n",
      "Train Loss: 1.09199\n",
      "Train Accuracy: 61.34333\n",
      "Test Loss: 0.95636\n",
      "Test Accuracy: 64.99601\n",
      "Samples Trained: 0\n",
      "Samples Trained: 12800\n",
      "Samples Trained: 25600\n",
      "Samples Trained: 38400\n",
      "Samples Trained: 51200\n",
      "Train Loss: 0.78101\n",
      "Train Accuracy: 71.92833\n",
      "Test Loss: 0.72227\n",
      "Test Accuracy: 73.91174\n",
      "Samples Trained: 0\n",
      "Samples Trained: 12800\n",
      "Samples Trained: 25600\n",
      "Samples Trained: 38400\n",
      "Samples Trained: 51200\n",
      "Train Loss: 0.67027\n",
      "Train Accuracy: 75.93667\n",
      "Test Loss: 0.68500\n",
      "Test Accuracy: 75.01997\n",
      "Samples Trained: 0\n",
      "Samples Trained: 12800\n",
      "Samples Trained: 25600\n",
      "Samples Trained: 38400\n",
      "Samples Trained: 51200\n",
      "Train Loss: 0.64384\n",
      "Train Accuracy: 76.52333\n",
      "Test Loss: 0.65079\n",
      "Test Accuracy: 76.12819\n",
      "Samples Trained: 0\n",
      "Samples Trained: 12800\n",
      "Samples Trained: 25600\n",
      "Samples Trained: 38400\n",
      "Samples Trained: 51200\n",
      "Train Loss: 0.62892\n",
      "Train Accuracy: 77.00167\n",
      "Test Loss: 0.65277\n",
      "Test Accuracy: 75.94848\n",
      "180.5306494\n"
     ]
    }
   ],
   "source": [
    "torch.manual_seed(42)\n",
    "train_start = timer()\n",
    "\n",
    "epochs = 5\n",
    "\n",
    "for epoch in tqdm(range(epochs)):\n",
    "    train_step(model_2, train_dataloader, loss_fn, optimizer, accuracy_fn, device)\n",
    "    test_step(model_2, test_dataloader, loss_fn, accuracy_fn, device)\n",
    "    \n",
    "train_end = timer()\n",
    "\n",
    "print_train_time(train_start, train_end, device = str(next(model_2.parameters()).device))"
   ]
  },
  {
   "cell_type": "code",
   "execution_count": 34,
   "id": "7f9e866e",
   "metadata": {},
   "outputs": [
    {
     "data": {
      "text/plain": [
       "{'model_name': 'FashionMNISTModel_V2',\n",
       " 'model_loss': 0.6527652740478516,\n",
       " 'model_acc': 75.94848242811501}"
      ]
     },
     "execution_count": 34,
     "metadata": {},
     "output_type": "execute_result"
    }
   ],
   "source": [
    "model_2_res = eval_model(model_2, test_dataloader, loss_fn, accuracy_fn, device)\n",
    "model_2_res"
   ]
  },
  {
   "cell_type": "markdown",
   "id": "c6600369",
   "metadata": {},
   "source": [
    "## Creating a Convolutional Neural Network (CNN)"
   ]
  },
  {
   "cell_type": "code",
   "execution_count": 35,
   "id": "13cab9ff",
   "metadata": {},
   "outputs": [],
   "source": [
    "class FashionMNISTModel_V3(nn.Module):\n",
    "    def __init__(self, input_shape: int, hidden_units: int, output_shape: 10):\n",
    "        super().__init__()\n",
    "        self.conv_block_1 = nn.Sequential(nn.Conv2d(in_channels = input_shape, out_channels = hidden_units,\n",
    "                                                    kernel_size = 3, stride = 1, padding = 1),\n",
    "                                          nn.ReLU(),\n",
    "                                          nn.Conv2d(in_channels = hidden_units, out_channels = hidden_units,\n",
    "                                                    kernel_size = 3, stride = 1, padding = 1),\n",
    "                                          nn.ReLU(),\n",
    "                                          nn.MaxPool2d(kernel_size = 2))\n",
    "        self.conv_block_2 = nn.Sequential(nn.Conv2d(in_channels = hidden_units, out_channels = hidden_units,\n",
    "                                                    kernel_size = 3, stride = 1, padding = 1),\n",
    "                                          nn.ReLU(),\n",
    "                                          nn.Conv2d(in_channels = hidden_units, out_channels = hidden_units,\n",
    "                                                    kernel_size = 3, stride = 1, padding = 1),\n",
    "                                          nn.ReLU(),\n",
    "                                          nn.MaxPool2d(kernel_size = 2))\n",
    "        self.classifier_stack = nn.Sequential(nn.Flatten(),\n",
    "                                              nn.Linear(in_features = hidden_units*7*7, out_features = output_shape))\n",
    "    \n",
    "    def forward(self, x):\n",
    "        x = self.conv_block_1(x)\n",
    "        x = self.conv_block_2(x)\n",
    "        x = self.classifier_stack(x)\n",
    "        return x"
   ]
  },
  {
   "cell_type": "code",
   "execution_count": 36,
   "id": "2766599f",
   "metadata": {},
   "outputs": [
    {
     "data": {
      "text/plain": [
       "FashionMNISTModel_V3(\n",
       "  (conv_block_1): Sequential(\n",
       "    (0): Conv2d(1, 10, kernel_size=(3, 3), stride=(1, 1), padding=(1, 1))\n",
       "    (1): ReLU()\n",
       "    (2): Conv2d(10, 10, kernel_size=(3, 3), stride=(1, 1), padding=(1, 1))\n",
       "    (3): ReLU()\n",
       "    (4): MaxPool2d(kernel_size=2, stride=2, padding=0, dilation=1, ceil_mode=False)\n",
       "  )\n",
       "  (conv_block_2): Sequential(\n",
       "    (0): Conv2d(10, 10, kernel_size=(3, 3), stride=(1, 1), padding=(1, 1))\n",
       "    (1): ReLU()\n",
       "    (2): Conv2d(10, 10, kernel_size=(3, 3), stride=(1, 1), padding=(1, 1))\n",
       "    (3): ReLU()\n",
       "    (4): MaxPool2d(kernel_size=2, stride=2, padding=0, dilation=1, ceil_mode=False)\n",
       "  )\n",
       "  (classifier_stack): Sequential(\n",
       "    (0): Flatten(start_dim=1, end_dim=-1)\n",
       "    (1): Linear(in_features=490, out_features=10, bias=True)\n",
       "  )\n",
       ")"
      ]
     },
     "execution_count": 36,
     "metadata": {},
     "output_type": "execute_result"
    }
   ],
   "source": [
    "torch.manual_seed(42)\n",
    "# input shape is the number of color channels\n",
    "model_3 = FashionMNISTModel_V3(input_shape = 1, hidden_units = 10, output_shape = len(class_names)).to(device)\n",
    "\n",
    "model_3"
   ]
  },
  {
   "cell_type": "markdown",
   "id": "85c2fbde",
   "metadata": {},
   "source": [
    "## Training and testing the CNN Model"
   ]
  },
  {
   "cell_type": "code",
   "execution_count": 37,
   "id": "8885803a",
   "metadata": {},
   "outputs": [],
   "source": [
    "loss_fn = nn.CrossEntropyLoss()\n",
    "optimizer = torch.optim.SGD(params = model_3.parameters(), lr = 0.1)"
   ]
  },
  {
   "cell_type": "code",
   "execution_count": 38,
   "id": "2be167f0",
   "metadata": {},
   "outputs": [
    {
     "data": {
      "application/vnd.jupyter.widget-view+json": {
       "model_id": "50c24c421b1a4ff6b49909c981b1c638",
       "version_major": 2,
       "version_minor": 0
      },
      "text/plain": [
       "  0%|          | 0/5 [00:00<?, ?it/s]"
      ]
     },
     "metadata": {},
     "output_type": "display_data"
    },
    {
     "name": "stdout",
     "output_type": "stream",
     "text": [
      "Samples Trained: 0\n",
      "Samples Trained: 12800\n",
      "Samples Trained: 25600\n",
      "Samples Trained: 38400\n",
      "Samples Trained: 51200\n",
      "Train Loss: 0.59570\n",
      "Train Accuracy: 78.44167\n",
      "Test Loss: 0.40620\n",
      "Test Accuracy: 85.74281\n",
      "Samples Trained: 0\n",
      "Samples Trained: 12800\n",
      "Samples Trained: 25600\n",
      "Samples Trained: 38400\n",
      "Samples Trained: 51200\n",
      "Train Loss: 0.36139\n",
      "Train Accuracy: 86.95667\n",
      "Test Loss: 0.35243\n",
      "Test Accuracy: 87.18051\n",
      "Samples Trained: 0\n",
      "Samples Trained: 12800\n",
      "Samples Trained: 25600\n",
      "Samples Trained: 38400\n",
      "Samples Trained: 51200\n",
      "Train Loss: 0.32339\n",
      "Train Accuracy: 88.31167\n",
      "Test Loss: 0.31441\n",
      "Test Accuracy: 88.43850\n",
      "Samples Trained: 0\n",
      "Samples Trained: 12800\n",
      "Samples Trained: 25600\n",
      "Samples Trained: 38400\n",
      "Samples Trained: 51200\n",
      "Train Loss: 0.30212\n",
      "Train Accuracy: 89.00500\n",
      "Test Loss: 0.31373\n",
      "Test Accuracy: 88.68810\n",
      "Samples Trained: 0\n",
      "Samples Trained: 12800\n",
      "Samples Trained: 25600\n",
      "Samples Trained: 38400\n",
      "Samples Trained: 51200\n",
      "Train Loss: 0.28890\n",
      "Train Accuracy: 89.58667\n",
      "Test Loss: 0.30164\n",
      "Test Accuracy: 88.89776\n",
      "208.7688614\n"
     ]
    }
   ],
   "source": [
    "torch.manual_seed(42)\n",
    "train_start = timer()\n",
    "\n",
    "epochs = 5\n",
    "\n",
    "for epoch in tqdm(range(epochs)):\n",
    "    train_step(model_3, train_dataloader, loss_fn, optimizer, accuracy_fn, device)\n",
    "    test_step(model_3, test_dataloader, loss_fn, accuracy_fn, device)\n",
    "    \n",
    "train_end = timer()\n",
    "\n",
    "print_train_time(train_start, train_end, device = str(next(model_3.parameters()).device))"
   ]
  },
  {
   "cell_type": "code",
   "execution_count": 39,
   "id": "96c5b3d9",
   "metadata": {},
   "outputs": [
    {
     "data": {
      "text/plain": [
       "{'model_name': 'FashionMNISTModel_V3',\n",
       " 'model_loss': 0.3016386330127716,\n",
       " 'model_acc': 88.89776357827476}"
      ]
     },
     "execution_count": 39,
     "metadata": {},
     "output_type": "execute_result"
    }
   ],
   "source": [
    "model_3_res = eval_model(model_3, test_dataloader, loss_fn, accuracy_fn, device)\n",
    "model_3_res"
   ]
  },
  {
   "cell_type": "markdown",
   "id": "f2c8b4f5",
   "metadata": {},
   "source": [
    "## Compare model results and training time"
   ]
  },
  {
   "cell_type": "code",
   "execution_count": 40,
   "id": "a676cefe",
   "metadata": {},
   "outputs": [
    {
     "data": {
      "text/html": [
       "<div>\n",
       "<style scoped>\n",
       "    .dataframe tbody tr th:only-of-type {\n",
       "        vertical-align: middle;\n",
       "    }\n",
       "\n",
       "    .dataframe tbody tr th {\n",
       "        vertical-align: top;\n",
       "    }\n",
       "\n",
       "    .dataframe thead th {\n",
       "        text-align: right;\n",
       "    }\n",
       "</style>\n",
       "<table border=\"1\" class=\"dataframe\">\n",
       "  <thead>\n",
       "    <tr style=\"text-align: right;\">\n",
       "      <th></th>\n",
       "      <th>model_name</th>\n",
       "      <th>model_loss</th>\n",
       "      <th>model_acc</th>\n",
       "    </tr>\n",
       "  </thead>\n",
       "  <tbody>\n",
       "    <tr>\n",
       "      <th>0</th>\n",
       "      <td>FashionMNISTModel</td>\n",
       "      <td>0.476639</td>\n",
       "      <td>83.426518</td>\n",
       "    </tr>\n",
       "    <tr>\n",
       "      <th>1</th>\n",
       "      <td>FashionMNISTModel_V2</td>\n",
       "      <td>0.652765</td>\n",
       "      <td>75.948482</td>\n",
       "    </tr>\n",
       "    <tr>\n",
       "      <th>2</th>\n",
       "      <td>FashionMNISTModel_V3</td>\n",
       "      <td>0.301639</td>\n",
       "      <td>88.897764</td>\n",
       "    </tr>\n",
       "  </tbody>\n",
       "</table>\n",
       "</div>"
      ],
      "text/plain": [
       "             model_name  model_loss  model_acc\n",
       "0     FashionMNISTModel    0.476639  83.426518\n",
       "1  FashionMNISTModel_V2    0.652765  75.948482\n",
       "2  FashionMNISTModel_V3    0.301639  88.897764"
      ]
     },
     "execution_count": 40,
     "metadata": {},
     "output_type": "execute_result"
    }
   ],
   "source": [
    "compare_results = pd.DataFrame([model_0_res, model_2_res, model_3_res])\n",
    "compare_results"
   ]
  },
  {
   "cell_type": "code",
   "execution_count": 41,
   "id": "c68298f2",
   "metadata": {},
   "outputs": [],
   "source": [
    "compare_results[\"train_time\"] = [81.99, 67.36, 67.10]"
   ]
  },
  {
   "cell_type": "code",
   "execution_count": 42,
   "id": "80d22c34",
   "metadata": {},
   "outputs": [
    {
     "data": {
      "text/html": [
       "<div>\n",
       "<style scoped>\n",
       "    .dataframe tbody tr th:only-of-type {\n",
       "        vertical-align: middle;\n",
       "    }\n",
       "\n",
       "    .dataframe tbody tr th {\n",
       "        vertical-align: top;\n",
       "    }\n",
       "\n",
       "    .dataframe thead th {\n",
       "        text-align: right;\n",
       "    }\n",
       "</style>\n",
       "<table border=\"1\" class=\"dataframe\">\n",
       "  <thead>\n",
       "    <tr style=\"text-align: right;\">\n",
       "      <th></th>\n",
       "      <th>model_name</th>\n",
       "      <th>model_loss</th>\n",
       "      <th>model_acc</th>\n",
       "      <th>train_time</th>\n",
       "    </tr>\n",
       "  </thead>\n",
       "  <tbody>\n",
       "    <tr>\n",
       "      <th>0</th>\n",
       "      <td>FashionMNISTModel</td>\n",
       "      <td>0.476639</td>\n",
       "      <td>83.426518</td>\n",
       "      <td>81.99</td>\n",
       "    </tr>\n",
       "    <tr>\n",
       "      <th>1</th>\n",
       "      <td>FashionMNISTModel_V2</td>\n",
       "      <td>0.652765</td>\n",
       "      <td>75.948482</td>\n",
       "      <td>67.36</td>\n",
       "    </tr>\n",
       "    <tr>\n",
       "      <th>2</th>\n",
       "      <td>FashionMNISTModel_V3</td>\n",
       "      <td>0.301639</td>\n",
       "      <td>88.897764</td>\n",
       "      <td>67.10</td>\n",
       "    </tr>\n",
       "  </tbody>\n",
       "</table>\n",
       "</div>"
      ],
      "text/plain": [
       "             model_name  model_loss  model_acc  train_time\n",
       "0     FashionMNISTModel    0.476639  83.426518       81.99\n",
       "1  FashionMNISTModel_V2    0.652765  75.948482       67.36\n",
       "2  FashionMNISTModel_V3    0.301639  88.897764       67.10"
      ]
     },
     "execution_count": 42,
     "metadata": {},
     "output_type": "execute_result"
    }
   ],
   "source": [
    "compare_results"
   ]
  },
  {
   "cell_type": "code",
   "execution_count": 43,
   "id": "5ac700ec",
   "metadata": {},
   "outputs": [
    {
     "data": {
      "text/plain": [
       "Text(0, 0.5, 'model')"
      ]
     },
     "execution_count": 43,
     "metadata": {},
     "output_type": "execute_result"
    },
    {
     "data": {
      "image/png": "[encoded data removed]",
      "text/plain": [
       "<Figure size 432x288 with 1 Axes>"
      ]
     },
     "metadata": {
      "needs_background": "light"
     },
     "output_type": "display_data"
    }
   ],
   "source": [
    "compare_results.set_index(\"model_name\")[\"model_acc\"].plot(kind=\"barh\")\n",
    "plt.xlabel(\"accuracy\")\n",
    "plt.ylabel(\"model\")"
   ]
  },
  {
   "cell_type": "markdown",
   "id": "d03000e2",
   "metadata": {},
   "source": [
    "## Evaluate random predictions with best model"
   ]
  },
  {
   "cell_type": "code",
   "execution_count": 44,
   "id": "e77ed9f0",
   "metadata": {},
   "outputs": [],
   "source": [
    "def make_preds(model: torch.nn.Module,\n",
    "               data: list,\n",
    "               device: torch.device = device):\n",
    "    pred_probs = []\n",
    "    model.to(device)\n",
    "    model.eval()\n",
    "    with torch.inference_mode():\n",
    "        for sample in data:\n",
    "            sample = torch.unsqueeze(sample, dim=0).to(device)\n",
    "            \n",
    "            pred_logit = model(sample)\n",
    "            pred_prob = torch.softmax(pred_logit.squeeze(), dim = 0)\n",
    "            \n",
    "            pred_probs.append(pred_prob.cpu())\n",
    "            \n",
    "    return torch.stack(pred_probs)"
   ]
  },
  {
   "cell_type": "code",
   "execution_count": 1,
   "id": "9d5fbdb7",
   "metadata": {},
   "outputs": [
    {
     "ename": "NameError",
     "evalue": "name 'train_data' is not defined",
     "output_type": "error",
     "traceback": [
      "\u001b[1;31m---------------------------------------------------------------------------\u001b[0m",
      "\u001b[1;31mNameError\u001b[0m                                 Traceback (most recent call last)",
      "\u001b[1;32m<ipython-input-1-918077e872b7>\u001b[0m in \u001b[0;36m<module>\u001b[1;34m\u001b[0m\n\u001b[0;32m      5\u001b[0m \u001b[0mtrain_labels\u001b[0m \u001b[1;33m=\u001b[0m \u001b[1;33m[\u001b[0m\u001b[1;33m]\u001b[0m\u001b[1;33m\u001b[0m\u001b[1;33m\u001b[0m\u001b[0m\n\u001b[0;32m      6\u001b[0m \u001b[1;33m\u001b[0m\u001b[0m\n\u001b[1;32m----> 7\u001b[1;33m \u001b[1;32mfor\u001b[0m \u001b[0msample\u001b[0m\u001b[1;33m,\u001b[0m \u001b[0mlabel\u001b[0m \u001b[1;32min\u001b[0m \u001b[0mrandom\u001b[0m\u001b[1;33m.\u001b[0m\u001b[0msample\u001b[0m\u001b[1;33m(\u001b[0m\u001b[0mlist\u001b[0m\u001b[1;33m(\u001b[0m\u001b[0mtrain_data\u001b[0m\u001b[1;33m)\u001b[0m\u001b[1;33m,\u001b[0m \u001b[0mk\u001b[0m\u001b[1;33m=\u001b[0m\u001b[1;36m9\u001b[0m\u001b[1;33m)\u001b[0m\u001b[1;33m:\u001b[0m\u001b[1;33m\u001b[0m\u001b[1;33m\u001b[0m\u001b[0m\n\u001b[0m\u001b[0;32m      8\u001b[0m     \u001b[0mtrain_samples\u001b[0m\u001b[1;33m.\u001b[0m\u001b[0mappend\u001b[0m\u001b[1;33m(\u001b[0m\u001b[0msample\u001b[0m\u001b[1;33m)\u001b[0m\u001b[1;33m\u001b[0m\u001b[1;33m\u001b[0m\u001b[0m\n\u001b[0;32m      9\u001b[0m     \u001b[0mtrain_labels\u001b[0m\u001b[1;33m.\u001b[0m\u001b[0mappend\u001b[0m\u001b[1;33m(\u001b[0m\u001b[0mlabel\u001b[0m\u001b[1;33m)\u001b[0m\u001b[1;33m\u001b[0m\u001b[1;33m\u001b[0m\u001b[0m\n",
      "\u001b[1;31mNameError\u001b[0m: name 'train_data' is not defined"
     ]
    }
   ],
   "source": [
    "import random\n",
    "# random.seed(5)\n",
    "\n",
    "test_samples = []\n",
    "test_labels = []\n",
    "\n",
    "for sample, label in random.sample(list(test_data), k=9):\n",
    "    test_samples.append(sample)\n",
    "    test_labels.append(label)"
   ]
  },
  {
   "cell_type": "code",
   "execution_count": 46,
   "id": "62903717",
   "metadata": {},
   "outputs": [
    {
     "data": {
      "text/plain": [
       "tensor([6, 5, 4, 8, 6, 5, 6, 1, 9])"
      ]
     },
     "execution_count": 46,
     "metadata": {},
     "output_type": "execute_result"
    }
   ],
   "source": [
    "pred_probs = make_preds(model_3, train_samples, device)\n",
    "\n",
    "pred_classes = pred_probs.argmax(dim = 1)\n",
    "\n",
    "pred_classes"
   ]
  },
  {
   "cell_type": "code",
   "execution_count": 47,
   "id": "c8ee4633",
   "metadata": {
    "scrolled": true
   },
   "outputs": [
    {
     "data": {
      "text/plain": [
       "[6, 5, 4, 8, 6, 5, 0, 1, 9]"
      ]
     },
     "execution_count": 47,
     "metadata": {},
     "output_type": "execute_result"
    }
   ],
   "source": [
    "test_labels"
   ]
  },
  {
   "cell_type": "markdown",
   "id": "a4dec034",
   "metadata": {},
   "source": [
    "## Plotting predictions"
   ]
  },
  {
   "cell_type": "code",
   "execution_count": 48,
   "id": "3c87bdcc",
   "metadata": {},
   "outputs": [
    {
     "data": {
      "image/png": "[encoded data removed]",
      "text/plain": [
       "<Figure size 648x648 with 9 Axes>"
      ]
     },
     "metadata": {
      "needs_background": "light"
     },
     "output_type": "display_data"
    }
   ],
   "source": [
    "plt.figure(figsize = (9,9))\n",
    "nrows, ncols = 3, 3\n",
    "\n",
    "for i, sample in enumerate(test_samples):\n",
    "    plt.subplot(nrows, ncols, i+1)\n",
    "    plt.imshow(sample.squeeze(), cmap=\"gray\")\n",
    "    pred_label = class_names[pred_classes[i]]\n",
    "    truth_label = class_names[test_labels[i]]\n",
    "    \n",
    "    if pred_label == truth_label:\n",
    "        plt.title(pred_label, fontsize = 14, c='g')\n",
    "    else:\n",
    "        plt.title(truth_label, fontsize = 14, c='r')\n",
    "        \n",
    "    plt.axis(False)"
   ]
  },
  {
   "cell_type": "markdown",
   "id": "b633e6b9",
   "metadata": {},
   "source": [
    "## Confusion matrix evaluation"
   ]
  },
  {
   "cell_type": "code",
   "execution_count": 57,
   "id": "6192ff86",
   "metadata": {},
   "outputs": [
    {
     "data": {
      "application/vnd.jupyter.widget-view+json": {
       "model_id": "788b7fbbf3364f149e84094fc2d749ea",
       "version_major": 2,
       "version_minor": 0
      },
      "text/plain": [
       "Making predictions on test data:   0%|          | 0/313 [00:00<?, ?it/s]"
      ]
     },
     "metadata": {},
     "output_type": "display_data"
    },
    {
     "data": {
      "text/plain": [
       "tensor([9, 2, 1, 1, 6, 1, 6, 6, 5, 7])"
      ]
     },
     "execution_count": 57,
     "metadata": {},
     "output_type": "execute_result"
    }
   ],
   "source": [
    "y_preds = []\n",
    "\n",
    "model_3.eval()\n",
    "with torch.inference_mode():\n",
    "    for X, y in tqdm(test_dataloader, desc = \"Making predictions on test data\"):\n",
    "        X, y = X.to(device), y.to(device)\n",
    "        \n",
    "        y_logit = model_3(X)\n",
    "        \n",
    "        y_pred = torch.softmax(y_logit.squeeze(), dim=0).argmax(dim = 1)\n",
    "        \n",
    "        y_preds.append(y_pred.cpu())\n",
    "        \n",
    "y_pred_tensor = torch.cat(y_preds)\n",
    "y_pred_tensor[:10]"
   ]
  },
  {
   "cell_type": "code",
   "execution_count": 58,
   "id": "5dd02a82",
   "metadata": {},
   "outputs": [],
   "source": [
    "import mlxtend\n",
    "from torchmetrics import ConfusionMatrix\n",
    "from mlxtend.plotting import plot_confusion_matrix"
   ]
  },
  {
   "cell_type": "code",
   "execution_count": 59,
   "id": "188428e3",
   "metadata": {},
   "outputs": [],
   "source": [
    "confmat = ConfusionMatrix(num_classes = len(class_names), task = 'multiclass') #number of classes in dataset\n",
    "confmat_tensor = confmat(preds = y_pred_tensor, target = test_data.targets)"
   ]
  },
  {
   "cell_type": "code",
   "execution_count": 60,
   "id": "5edccabe",
   "metadata": {},
   "outputs": [
    {
     "data": {
      "image/png": "[encoded data removed]",
      "text/plain": [
       "<Figure size 720x504 with 1 Axes>"
      ]
     },
     "metadata": {
      "needs_background": "light"
     },
     "output_type": "display_data"
    }
   ],
   "source": [
    "fig, ax = plot_confusion_matrix(\n",
    "                    conf_mat = confmat_tensor.numpy(),\n",
    "                    class_names = class_names,\n",
    "                    figsize = (10,7))"
   ]
  },
  {
   "cell_type": "markdown",
   "id": "b91f0b30",
   "metadata": {},
   "source": [
    "## Saving the best model"
   ]
  },
  {
   "cell_type": "code",
   "execution_count": 61,
   "id": "f00e048b",
   "metadata": {},
   "outputs": [],
   "source": [
    "from pathlib import Path\n",
    "\n",
    "MODEL_PATH = Path(\"models\")\n",
    "MODEL_PATH.mkdir(parents = True, exist_ok = True)\n",
    "\n",
    "MODEL_NAME = \"03_MNIST_Fashion_CNN_Model.pth\"\n",
    "MODEL_SAVE_PATH = MODEL_PATH / MODEL_NAME\n",
    "\n",
    "torch.save(obj = model_3.state_dict(), f = MODEL_SAVE_PATH)"
   ]
  },
  {
   "cell_type": "markdown",
   "id": "02a415ff",
   "metadata": {},
   "source": [
    "### When loading a state dict, create an instance with the same input, hidden units and output states"
   ]
  },
  {
   "cell_type": "code",
   "execution_count": null,
   "id": "fc74d5a1",
   "metadata": {},
   "outputs": [],
   "source": []
  },
  {
   "cell_type": "code",
   "execution_count": null,
   "id": "f44ca2ea",
   "metadata": {},
   "outputs": [],
   "source": []
  }
 ],
 "metadata": {
  "kernelspec": {
   "display_name": "Python 3",
   "language": "python",
   "name": "python3"
  },
  "language_info": {
   "codemirror_mode": {
    "name": "ipython",
    "version": 3
   },
   "file_extension": ".py",
   "mimetype": "text/x-python",
   "name": "python",
   "nbconvert_exporter": "python",
   "pygments_lexer": "ipython3",
   "version": "3.9.5"
  }
 },
 "nbformat": 4,
 "nbformat_minor": 5
}
